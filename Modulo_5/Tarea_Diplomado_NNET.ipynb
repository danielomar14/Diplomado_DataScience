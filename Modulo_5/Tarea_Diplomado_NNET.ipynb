{
  "nbformat": 4,
  "nbformat_minor": 0,
  "metadata": {
    "colab": {
      "name": "Tarea_Diplomado_NNET.ipynb",
      "provenance": []
    },
    "kernelspec": {
      "name": "python3",
      "display_name": "Python 3"
    }
  },
  "cells": [
    {
      "cell_type": "code",
      "metadata": {
        "id": "JggVuk4SQhde",
        "colab_type": "code",
        "colab": {}
      },
      "source": [
        "%tensorflow_version 2.x"
      ],
      "execution_count": 0,
      "outputs": []
    },
    {
      "cell_type": "code",
      "metadata": {
        "id": "uNRW1m2uQr37",
        "colab_type": "code",
        "colab": {
          "base_uri": "https://localhost:8080/",
          "height": 34
        },
        "outputId": "1249a367-92ed-4eea-fc94-416b39cfd789"
      },
      "source": [
        "#Librerías\n",
        "import os\n",
        "from datetime import datetime\n",
        "import matplotlib.pyplot as plt\n",
        "import tensorflow as tf\n",
        "import numpy as np\n",
        "from sklearn.metrics import confusion_matrix,classification_report, accuracy_score\n",
        "from tensorflow.keras.datasets import fashion_mnist\n",
        "from tensorflow.keras.models import Model\n",
        "from tensorflow.keras.layers import Input, Dense, Flatten\n",
        "\n",
        "tf.__version__\n"
      ],
      "execution_count": 95,
      "outputs": [
        {
          "output_type": "execute_result",
          "data": {
            "text/plain": [
              "'2.2.0'"
            ]
          },
          "metadata": {
            "tags": []
          },
          "execution_count": 95
        }
      ]
    },
    {
      "cell_type": "code",
      "metadata": {
        "id": "RztR2iQuRKBD",
        "colab_type": "code",
        "colab": {}
      },
      "source": [
        "#Importa data\n",
        "(X_train, y_train), (X_test, y_test) = fashion_mnist.load_data()"
      ],
      "execution_count": 0,
      "outputs": []
    },
    {
      "cell_type": "code",
      "metadata": {
        "id": "FAQ45XCgRMlQ",
        "colab_type": "code",
        "colab": {}
      },
      "source": [
        "X_cv, X_test = X_test[7000:], X_test[:7000]\n",
        "y_cv, y_test = y_test[7000:], y_test[:7000]"
      ],
      "execution_count": 0,
      "outputs": []
    },
    {
      "cell_type": "code",
      "metadata": {
        "id": "8h8HOdPZR_5j",
        "colab_type": "code",
        "colab": {
          "base_uri": "https://localhost:8080/",
          "height": 34
        },
        "outputId": "7f8e5572-711c-4822-c82b-9fa363c33ef0"
      },
      "source": [
        "print(X_cv.shape, X_test.shape)"
      ],
      "execution_count": 98,
      "outputs": [
        {
          "output_type": "stream",
          "text": [
            "(3000, 28, 28) (7000, 28, 28)\n"
          ],
          "name": "stdout"
        }
      ]
    },
    {
      "cell_type": "code",
      "metadata": {
        "id": "BoPCskr_RVF0",
        "colab_type": "code",
        "colab": {}
      },
      "source": [
        "Xin = Input(shape=(28, 28))\n",
        "X = Flatten()(Xin)\n",
        "X = Dense(300, activation=\"relu\")(X)\n",
        "X = Dense(200, activation=\"relu\")(X)\n",
        "X = Dense(100, activation=\"relu\")(X)\n",
        "X = Dense(50, activation=\"relu\")(X)\n",
        "X = Dense(10, activation=\"softmax\")(X)\n",
        "\n",
        "model = Model(inputs=Xin, outputs=X)"
      ],
      "execution_count": 0,
      "outputs": []
    },
    {
      "cell_type": "code",
      "metadata": {
        "id": "hblqX73UQ-Cr",
        "colab_type": "code",
        "colab": {}
      },
      "source": [
        "model.compile(optimizer=\"sgd\", # equiv \"sgd\"\n",
        "              loss=\"sparse_categorical_crossentropy\",\n",
        "              metrics=[\"accuracy\"])"
      ],
      "execution_count": 0,
      "outputs": []
    },
    {
      "cell_type": "code",
      "metadata": {
        "id": "QcpTjE5fRnzT",
        "colab_type": "code",
        "colab": {
          "base_uri": "https://localhost:8080/",
          "height": 1000
        },
        "outputId": "3036ca3d-c347-485b-c7d0-732f7d8afd5e"
      },
      "source": [
        "model.fit(x=X_train / 255.0, y=y_train, epochs=30, validation_data=(X_test / 255.0, y_test))"
      ],
      "execution_count": 101,
      "outputs": [
        {
          "output_type": "stream",
          "text": [
            "Epoch 1/30\n",
            "1875/1875 [==============================] - 7s 4ms/step - loss: 0.7094 - accuracy: 0.7632 - val_loss: 0.5247 - val_accuracy: 0.8184\n",
            "Epoch 2/30\n",
            "1875/1875 [==============================] - 7s 4ms/step - loss: 0.4625 - accuracy: 0.8375 - val_loss: 0.4551 - val_accuracy: 0.8421\n",
            "Epoch 3/30\n",
            "1875/1875 [==============================] - 7s 4ms/step - loss: 0.4120 - accuracy: 0.8533 - val_loss: 0.4327 - val_accuracy: 0.8460\n",
            "Epoch 4/30\n",
            "1875/1875 [==============================] - 7s 4ms/step - loss: 0.3819 - accuracy: 0.8629 - val_loss: 0.4426 - val_accuracy: 0.8457\n",
            "Epoch 5/30\n",
            "1875/1875 [==============================] - 7s 4ms/step - loss: 0.3595 - accuracy: 0.8695 - val_loss: 0.3923 - val_accuracy: 0.8601\n",
            "Epoch 6/30\n",
            "1875/1875 [==============================] - 7s 4ms/step - loss: 0.3431 - accuracy: 0.8752 - val_loss: 0.3866 - val_accuracy: 0.8620\n",
            "Epoch 7/30\n",
            "1875/1875 [==============================] - 7s 4ms/step - loss: 0.3271 - accuracy: 0.8807 - val_loss: 0.3890 - val_accuracy: 0.8643\n",
            "Epoch 8/30\n",
            "1875/1875 [==============================] - 7s 4ms/step - loss: 0.3149 - accuracy: 0.8844 - val_loss: 0.3721 - val_accuracy: 0.8647\n",
            "Epoch 9/30\n",
            "1875/1875 [==============================] - 7s 4ms/step - loss: 0.3052 - accuracy: 0.8880 - val_loss: 0.3814 - val_accuracy: 0.8617\n",
            "Epoch 10/30\n",
            "1875/1875 [==============================] - 7s 4ms/step - loss: 0.2962 - accuracy: 0.8905 - val_loss: 0.3695 - val_accuracy: 0.8681\n",
            "Epoch 11/30\n",
            "1875/1875 [==============================] - 7s 4ms/step - loss: 0.2868 - accuracy: 0.8943 - val_loss: 0.3469 - val_accuracy: 0.8740\n",
            "Epoch 12/30\n",
            "1875/1875 [==============================] - 7s 4ms/step - loss: 0.2780 - accuracy: 0.8974 - val_loss: 0.3520 - val_accuracy: 0.8741\n",
            "Epoch 13/30\n",
            "1875/1875 [==============================] - 7s 4ms/step - loss: 0.2712 - accuracy: 0.8996 - val_loss: 0.3435 - val_accuracy: 0.8784\n",
            "Epoch 14/30\n",
            "1875/1875 [==============================] - 8s 4ms/step - loss: 0.2623 - accuracy: 0.9028 - val_loss: 0.3499 - val_accuracy: 0.8739\n",
            "Epoch 15/30\n",
            "1875/1875 [==============================] - 7s 4ms/step - loss: 0.2565 - accuracy: 0.9051 - val_loss: 0.3496 - val_accuracy: 0.8736\n",
            "Epoch 16/30\n",
            "1875/1875 [==============================] - 7s 4ms/step - loss: 0.2494 - accuracy: 0.9083 - val_loss: 0.3378 - val_accuracy: 0.8804\n",
            "Epoch 17/30\n",
            "1875/1875 [==============================] - 7s 4ms/step - loss: 0.2417 - accuracy: 0.9108 - val_loss: 0.3528 - val_accuracy: 0.8724\n",
            "Epoch 18/30\n",
            "1875/1875 [==============================] - 7s 4ms/step - loss: 0.2376 - accuracy: 0.9123 - val_loss: 0.3380 - val_accuracy: 0.8789\n",
            "Epoch 19/30\n",
            "1875/1875 [==============================] - 7s 4ms/step - loss: 0.2294 - accuracy: 0.9142 - val_loss: 0.3590 - val_accuracy: 0.8697\n",
            "Epoch 20/30\n",
            "1875/1875 [==============================] - 7s 4ms/step - loss: 0.2262 - accuracy: 0.9159 - val_loss: 0.3362 - val_accuracy: 0.8781\n",
            "Epoch 21/30\n",
            "1875/1875 [==============================] - 7s 4ms/step - loss: 0.2196 - accuracy: 0.9178 - val_loss: 0.3377 - val_accuracy: 0.8799\n",
            "Epoch 22/30\n",
            "1875/1875 [==============================] - 7s 4ms/step - loss: 0.2139 - accuracy: 0.9207 - val_loss: 0.3580 - val_accuracy: 0.8740\n",
            "Epoch 23/30\n",
            "1875/1875 [==============================] - 7s 4ms/step - loss: 0.2103 - accuracy: 0.9221 - val_loss: 0.3496 - val_accuracy: 0.8797\n",
            "Epoch 24/30\n",
            "1875/1875 [==============================] - 7s 4ms/step - loss: 0.2043 - accuracy: 0.9238 - val_loss: 0.3610 - val_accuracy: 0.8740\n",
            "Epoch 25/30\n",
            "1875/1875 [==============================] - 7s 4ms/step - loss: 0.2007 - accuracy: 0.9255 - val_loss: 0.3302 - val_accuracy: 0.8873\n",
            "Epoch 26/30\n",
            "1875/1875 [==============================] - 7s 4ms/step - loss: 0.1944 - accuracy: 0.9290 - val_loss: 0.3715 - val_accuracy: 0.8721\n",
            "Epoch 27/30\n",
            "1875/1875 [==============================] - 7s 4ms/step - loss: 0.1896 - accuracy: 0.9294 - val_loss: 0.3628 - val_accuracy: 0.8736\n",
            "Epoch 28/30\n",
            "1875/1875 [==============================] - 7s 4ms/step - loss: 0.1865 - accuracy: 0.9314 - val_loss: 0.3459 - val_accuracy: 0.8794\n",
            "Epoch 29/30\n",
            "1875/1875 [==============================] - 7s 4ms/step - loss: 0.1808 - accuracy: 0.9321 - val_loss: 0.3685 - val_accuracy: 0.8769\n",
            "Epoch 30/30\n",
            "1875/1875 [==============================] - 7s 4ms/step - loss: 0.1769 - accuracy: 0.9345 - val_loss: 0.3364 - val_accuracy: 0.8823\n"
          ],
          "name": "stdout"
        },
        {
          "output_type": "execute_result",
          "data": {
            "text/plain": [
              "<tensorflow.python.keras.callbacks.History at 0x7f7032ba11d0>"
            ]
          },
          "metadata": {
            "tags": []
          },
          "execution_count": 101
        }
      ]
    },
    {
      "cell_type": "code",
      "metadata": {
        "id": "OX5nIdYeU00g",
        "colab_type": "code",
        "colab": {
          "base_uri": "https://localhost:8080/",
          "height": 34
        },
        "outputId": "2f8264af-a804-41f9-9df5-ae6a27457acb"
      },
      "source": [
        "hist = model.history.history\n",
        "hist.keys()"
      ],
      "execution_count": 102,
      "outputs": [
        {
          "output_type": "execute_result",
          "data": {
            "text/plain": [
              "dict_keys(['loss', 'accuracy', 'val_loss', 'val_accuracy'])"
            ]
          },
          "metadata": {
            "tags": []
          },
          "execution_count": 102
        }
      ]
    },
    {
      "cell_type": "code",
      "metadata": {
        "id": "gp4Z9b7dV6HB",
        "colab_type": "code",
        "colab": {
          "base_uri": "https://localhost:8080/",
          "height": 282
        },
        "outputId": "095e18d1-6009-4e07-d9dc-a452aeab57e9"
      },
      "source": [
        "fig, ax = plt.subplots(1, 2, figsize=(14, 4))\n",
        "ax[0].plot(hist[\"loss\"], label=\"train\")\n",
        "ax[0].plot(hist[\"val_loss\"], label=\"cv\")\n",
        "ax[0].legend(fontsize=13)\n",
        "\n",
        "ax[1].plot(hist[\"accuracy\"], label=\"train\")\n",
        "ax[1].plot(hist[\"val_accuracy\"], label=\"cv\")\n",
        "ax[1].legend(fontsize=13)"
      ],
      "execution_count": 103,
      "outputs": [
        {
          "output_type": "execute_result",
          "data": {
            "text/plain": [
              "<matplotlib.legend.Legend at 0x7f702ee616a0>"
            ]
          },
          "metadata": {
            "tags": []
          },
          "execution_count": 103
        },
        {
          "output_type": "display_data",
          "data": {
            "image/png": "[encoded data removed]",
            "text/plain": [
              "<Figure size 1008x288 with 2 Axes>"
            ]
          },
          "metadata": {
            "tags": [],
            "needs_background": "light"
          }
        }
      ]
    },
    {
      "cell_type": "code",
      "metadata": {
        "id": "r1KPaeYfYKJ-",
        "colab_type": "code",
        "colab": {}
      },
      "source": [
        "preds = model.predict(X_cv)"
      ],
      "execution_count": 0,
      "outputs": []
    },
    {
      "cell_type": "code",
      "metadata": {
        "id": "VGs9QEsXY3f6",
        "colab_type": "code",
        "colab": {
          "base_uri": "https://localhost:8080/",
          "height": 34
        },
        "outputId": "3d06532c-4bfa-43ff-a2d4-5021f59c6005"
      },
      "source": [
        "pred_list = []\n",
        "for i in preds:\n",
        "    pred_list.append(np.argmax(i))\n",
        "\n",
        "print('{}%'.format(accuracy_score(y_pred=pred_list,y_true=y_cv) * 100))"
      ],
      "execution_count": 105,
      "outputs": [
        {
          "output_type": "stream",
          "text": [
            "85.43333333333332%\n"
          ],
          "name": "stdout"
        }
      ]
    },
    {
      "cell_type": "code",
      "metadata": {
        "id": "yGfrV1TdbCkM",
        "colab_type": "code",
        "colab": {
          "base_uri": "https://localhost:8080/",
          "height": 194
        },
        "outputId": "9781432a-cabe-4a71-b032-38fff3e46a76"
      },
      "source": [
        "confusion_matrix(y_true=y_cv, y_pred=pred_list)"
      ],
      "execution_count": 106,
      "outputs": [
        {
          "output_type": "execute_result",
          "data": {
            "text/plain": [
              "array([[242,  11,  15,   8,   2,   0,  29,   0,   5,   0],\n",
              "       [  0, 315,   0,   0,   4,   0,   0,   0,   0,   0],\n",
              "       [  3,   2, 178,   2,  73,   0,  10,   0,   5,   0],\n",
              "       [  2,   7,   8, 254,  15,   0,   2,   0,   3,   0],\n",
              "       [  0,   1,   6,   2, 276,   0,   2,   0,   1,   0],\n",
              "       [  0,   0,   0,   0,   0, 281,   0,   1,   2,  12],\n",
              "       [ 38,   3,  28,   8,  57,   0, 168,   0,   6,   0],\n",
              "       [  0,   0,   0,   0,   0,   6,   0, 250,   4,  47],\n",
              "       [  0,   0,   1,   0,   1,   0,   0,   0, 289,   0],\n",
              "       [  0,   0,   0,   0,   0,   4,   0,   1,   0, 310]])"
            ]
          },
          "metadata": {
            "tags": []
          },
          "execution_count": 106
        }
      ]
    },
    {
      "cell_type": "code",
      "metadata": {
        "id": "lprJdGgHb9ju",
        "colab_type": "code",
        "colab": {}
      },
      "source": [
        ""
      ],
      "execution_count": 0,
      "outputs": []
    }
  ]
}
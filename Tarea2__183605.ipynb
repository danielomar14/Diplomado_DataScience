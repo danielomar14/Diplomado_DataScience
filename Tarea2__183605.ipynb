{
 "cells": [
  {
   "cell_type": "markdown",
   "metadata": {},
   "source": [
    "---"
   ]
  },
  {
   "cell_type": "code",
   "execution_count": 2,
   "metadata": {
    "hide_input": true
   },
   "outputs": [
    {
     "data": {
      "image/png": "[encoded data removed]",
      "text/plain": [
       "<IPython.core.display.Image object>"
      ]
     },
     "metadata": {
      "image/png": {
       "unconfined": true,
       "width": 500
      }
     },
     "output_type": "display_data"
    }
   ],
   "source": [
    "# Inicio de M para usuarios.\n",
    "from IPython.core.display import Image, display\n",
    "from tqdm import tqdm\n",
    "display(Image('C:/Users/mb55292/Documents/ITAM/Itam_logo.png', width=500, unconfined=True))"
   ]
  },
  {
   "cell_type": "markdown",
   "metadata": {},
   "source": [
    "---"
   ]
  },
  {
   "cell_type": "markdown",
   "metadata": {
    "hide_input": false
   },
   "source": [
    "<font color='#508072'> \n",
    "$ \\Large \\textbf {Data science and machine learning applied to financial markets} $"
   ]
  },
  {
   "cell_type": "markdown",
   "metadata": {},
   "source": [
    "<font color='#508072'> \n",
    "$ \\normalsize \\textbf {Author: Daniel Omar Becerril Olguín} $"
   ]
  },
  {
   "cell_type": "markdown",
   "metadata": {},
   "source": [
    "<font color='#508072'> \n",
    "$ \\normalsize \\textbf {CU: 183605} $"
   ]
  },
  {
   "cell_type": "markdown",
   "metadata": {},
   "source": [
    "---"
   ]
  },
  {
   "cell_type": "markdown",
   "metadata": {},
   "source": [
    "## Prerequisites"
   ]
  },
  {
   "cell_type": "code",
   "execution_count": 2,
   "metadata": {
    "ExecuteTime": {
     "end_time": "2020-02-23T01:47:55.442300Z",
     "start_time": "2020-02-23T01:47:55.430296Z"
    }
   },
   "outputs": [],
   "source": [
    "#Import libraries\n",
    "import pandas as pd\n",
    "import numpy as np\n",
    "import matplotlib.pyplot as plt\n",
    "import seaborn as sns\n",
    "from datetime import datetime"
   ]
  },
  {
   "cell_type": "code",
   "execution_count": 4,
   "metadata": {
    "ExecuteTime": {
     "end_time": "2020-02-23T01:48:09.568901Z",
     "start_time": "2020-02-23T01:48:09.528900Z"
    }
   },
   "outputs": [],
   "source": [
    "%config InlineBackend.figure_format = \"retina\"\n",
    "plt.rcParams[\"figure.figsize\"] = (12, 3)"
   ]
  },
  {
   "cell_type": "code",
   "execution_count": 9,
   "metadata": {
    "ExecuteTime": {
     "end_time": "2020-02-23T01:48:57.357517Z",
     "start_time": "2020-02-23T01:48:56.108670Z"
    }
   },
   "outputs": [
    {
     "data": {
      "text/html": [
       "<div>\n",
       "<style scoped>\n",
       "    .dataframe tbody tr th:only-of-type {\n",
       "        vertical-align: middle;\n",
       "    }\n",
       "\n",
       "    .dataframe tbody tr th {\n",
       "        vertical-align: top;\n",
       "    }\n",
       "\n",
       "    .dataframe thead th {\n",
       "        text-align: right;\n",
       "    }\n",
       "</style>\n",
       "<table border=\"1\" class=\"dataframe\">\n",
       "  <thead>\n",
       "    <tr style=\"text-align: right;\">\n",
       "      <th></th>\n",
       "      <th>date</th>\n",
       "      <th>ticker</th>\n",
       "      <th>field</th>\n",
       "      <th>value</th>\n",
       "    </tr>\n",
       "  </thead>\n",
       "  <tbody>\n",
       "    <tr>\n",
       "      <td>0</td>\n",
       "      <td>2017-06-07</td>\n",
       "      <td>BBAJIOO MF Equity</td>\n",
       "      <td>PX_LAST</td>\n",
       "      <td>29.50</td>\n",
       "    </tr>\n",
       "    <tr>\n",
       "      <td>1</td>\n",
       "      <td>2017-06-08</td>\n",
       "      <td>BBAJIOO MF Equity</td>\n",
       "      <td>PX_LAST</td>\n",
       "      <td>30.14</td>\n",
       "    </tr>\n",
       "    <tr>\n",
       "      <td>2</td>\n",
       "      <td>2017-06-08</td>\n",
       "      <td>BBAJIOO MF Equity</td>\n",
       "      <td>PX_LOW</td>\n",
       "      <td>29.75</td>\n",
       "    </tr>\n",
       "    <tr>\n",
       "      <td>3</td>\n",
       "      <td>2017-06-08</td>\n",
       "      <td>BBAJIOO MF Equity</td>\n",
       "      <td>PX_OPEN</td>\n",
       "      <td>29.50</td>\n",
       "    </tr>\n",
       "    <tr>\n",
       "      <td>4</td>\n",
       "      <td>2017-06-08</td>\n",
       "      <td>BBAJIOO MF Equity</td>\n",
       "      <td>PX_HIGH</td>\n",
       "      <td>30.70</td>\n",
       "    </tr>\n",
       "  </tbody>\n",
       "</table>\n",
       "</div>"
      ],
      "text/plain": [
       "         date             ticker    field  value\n",
       "0  2017-06-07  BBAJIOO MF Equity  PX_LAST  29.50\n",
       "1  2017-06-08  BBAJIOO MF Equity  PX_LAST  30.14\n",
       "2  2017-06-08  BBAJIOO MF Equity   PX_LOW  29.75\n",
       "3  2017-06-08  BBAJIOO MF Equity  PX_OPEN  29.50\n",
       "4  2017-06-08  BBAJIOO MF Equity  PX_HIGH  30.70"
      ]
     },
     "execution_count": 9,
     "metadata": {},
     "output_type": "execute_result"
    }
   ],
   "source": [
    "bmv = pd.read_csv(\"../files/lec02/ipc0019.csv\")\n",
    "bmv.head()"
   ]
  },
  {
   "cell_type": "code",
   "execution_count": 10,
   "metadata": {
    "ExecuteTime": {
     "end_time": "2020-02-23T01:48:59.848986Z",
     "start_time": "2020-02-23T01:48:57.429532Z"
    }
   },
   "outputs": [
    {
     "data": {
      "text/html": [
       "<div>\n",
       "<style scoped>\n",
       "    .dataframe tbody tr th:only-of-type {\n",
       "        vertical-align: middle;\n",
       "    }\n",
       "\n",
       "    .dataframe tbody tr th {\n",
       "        vertical-align: top;\n",
       "    }\n",
       "\n",
       "    .dataframe thead tr th {\n",
       "        text-align: left;\n",
       "    }\n",
       "\n",
       "    .dataframe thead tr:last-of-type th {\n",
       "        text-align: right;\n",
       "    }\n",
       "</style>\n",
       "<table border=\"1\" class=\"dataframe\">\n",
       "  <thead>\n",
       "    <tr>\n",
       "      <th>ticker</th>\n",
       "      <th colspan=\"6\" halign=\"left\">1746531D GZ Equity</th>\n",
       "      <th colspan=\"4\" halign=\"left\">AC* MF Equity</th>\n",
       "      <th>...</th>\n",
       "      <th colspan=\"4\" halign=\"left\">TLEVICPO MF Equity</th>\n",
       "      <th colspan=\"6\" halign=\"left\">WALMEX* MF Equity</th>\n",
       "    </tr>\n",
       "    <tr>\n",
       "      <th>field</th>\n",
       "      <th>PX_HIGH</th>\n",
       "      <th>PX_LAST</th>\n",
       "      <th>PX_LOW</th>\n",
       "      <th>PX_MID</th>\n",
       "      <th>PX_OPEN</th>\n",
       "      <th>PX_VOLUME</th>\n",
       "      <th>PX_HIGH</th>\n",
       "      <th>PX_LAST</th>\n",
       "      <th>PX_LOW</th>\n",
       "      <th>PX_MID</th>\n",
       "      <th>...</th>\n",
       "      <th>PX_LOW</th>\n",
       "      <th>PX_MID</th>\n",
       "      <th>PX_OPEN</th>\n",
       "      <th>PX_VOLUME</th>\n",
       "      <th>PX_HIGH</th>\n",
       "      <th>PX_LAST</th>\n",
       "      <th>PX_LOW</th>\n",
       "      <th>PX_MID</th>\n",
       "      <th>PX_OPEN</th>\n",
       "      <th>PX_VOLUME</th>\n",
       "    </tr>\n",
       "    <tr>\n",
       "      <th>date</th>\n",
       "      <th></th>\n",
       "      <th></th>\n",
       "      <th></th>\n",
       "      <th></th>\n",
       "      <th></th>\n",
       "      <th></th>\n",
       "      <th></th>\n",
       "      <th></th>\n",
       "      <th></th>\n",
       "      <th></th>\n",
       "      <th></th>\n",
       "      <th></th>\n",
       "      <th></th>\n",
       "      <th></th>\n",
       "      <th></th>\n",
       "      <th></th>\n",
       "      <th></th>\n",
       "      <th></th>\n",
       "      <th></th>\n",
       "      <th></th>\n",
       "      <th></th>\n",
       "    </tr>\n",
       "  </thead>\n",
       "  <tbody>\n",
       "    <tr>\n",
       "      <td>2000-01-03</td>\n",
       "      <td>NaN</td>\n",
       "      <td>NaN</td>\n",
       "      <td>NaN</td>\n",
       "      <td>NaN</td>\n",
       "      <td>NaN</td>\n",
       "      <td>NaN</td>\n",
       "      <td>NaN</td>\n",
       "      <td>NaN</td>\n",
       "      <td>NaN</td>\n",
       "      <td>NaN</td>\n",
       "      <td>...</td>\n",
       "      <td>30.44</td>\n",
       "      <td>30.50</td>\n",
       "      <td>32.20</td>\n",
       "      <td>680000.0</td>\n",
       "      <td>5.14</td>\n",
       "      <td>4.90</td>\n",
       "      <td>4.75</td>\n",
       "      <td>4.89</td>\n",
       "      <td>4.78</td>\n",
       "      <td>17132000.0</td>\n",
       "    </tr>\n",
       "    <tr>\n",
       "      <td>2000-01-04</td>\n",
       "      <td>NaN</td>\n",
       "      <td>NaN</td>\n",
       "      <td>NaN</td>\n",
       "      <td>NaN</td>\n",
       "      <td>NaN</td>\n",
       "      <td>NaN</td>\n",
       "      <td>NaN</td>\n",
       "      <td>NaN</td>\n",
       "      <td>NaN</td>\n",
       "      <td>NaN</td>\n",
       "      <td>...</td>\n",
       "      <td>27.30</td>\n",
       "      <td>27.45</td>\n",
       "      <td>28.80</td>\n",
       "      <td>2980000.0</td>\n",
       "      <td>4.83</td>\n",
       "      <td>4.82</td>\n",
       "      <td>4.73</td>\n",
       "      <td>4.83</td>\n",
       "      <td>4.80</td>\n",
       "      <td>20296000.0</td>\n",
       "    </tr>\n",
       "    <tr>\n",
       "      <td>2000-01-05</td>\n",
       "      <td>NaN</td>\n",
       "      <td>NaN</td>\n",
       "      <td>NaN</td>\n",
       "      <td>NaN</td>\n",
       "      <td>NaN</td>\n",
       "      <td>NaN</td>\n",
       "      <td>NaN</td>\n",
       "      <td>NaN</td>\n",
       "      <td>NaN</td>\n",
       "      <td>NaN</td>\n",
       "      <td>...</td>\n",
       "      <td>25.90</td>\n",
       "      <td>27.15</td>\n",
       "      <td>26.80</td>\n",
       "      <td>3430000.0</td>\n",
       "      <td>5.25</td>\n",
       "      <td>5.21</td>\n",
       "      <td>4.70</td>\n",
       "      <td>5.30</td>\n",
       "      <td>4.80</td>\n",
       "      <td>20372000.0</td>\n",
       "    </tr>\n",
       "    <tr>\n",
       "      <td>2000-01-06</td>\n",
       "      <td>NaN</td>\n",
       "      <td>NaN</td>\n",
       "      <td>NaN</td>\n",
       "      <td>NaN</td>\n",
       "      <td>NaN</td>\n",
       "      <td>NaN</td>\n",
       "      <td>NaN</td>\n",
       "      <td>NaN</td>\n",
       "      <td>NaN</td>\n",
       "      <td>NaN</td>\n",
       "      <td>...</td>\n",
       "      <td>27.00</td>\n",
       "      <td>27.08</td>\n",
       "      <td>27.30</td>\n",
       "      <td>850000.0</td>\n",
       "      <td>5.34</td>\n",
       "      <td>5.18</td>\n",
       "      <td>5.13</td>\n",
       "      <td>5.18</td>\n",
       "      <td>5.24</td>\n",
       "      <td>22904000.0</td>\n",
       "    </tr>\n",
       "    <tr>\n",
       "      <td>2000-01-07</td>\n",
       "      <td>NaN</td>\n",
       "      <td>NaN</td>\n",
       "      <td>NaN</td>\n",
       "      <td>NaN</td>\n",
       "      <td>NaN</td>\n",
       "      <td>NaN</td>\n",
       "      <td>NaN</td>\n",
       "      <td>NaN</td>\n",
       "      <td>NaN</td>\n",
       "      <td>NaN</td>\n",
       "      <td>...</td>\n",
       "      <td>26.75</td>\n",
       "      <td>28.35</td>\n",
       "      <td>26.98</td>\n",
       "      <td>2210000.0</td>\n",
       "      <td>5.63</td>\n",
       "      <td>5.51</td>\n",
       "      <td>5.19</td>\n",
       "      <td>5.69</td>\n",
       "      <td>5.19</td>\n",
       "      <td>23512000.0</td>\n",
       "    </tr>\n",
       "  </tbody>\n",
       "</table>\n",
       "<p>5 rows × 210 columns</p>\n",
       "</div>"
      ],
      "text/plain": [
       "ticker     1746531D GZ Equity                                          \\\n",
       "field                 PX_HIGH PX_LAST PX_LOW PX_MID PX_OPEN PX_VOLUME   \n",
       "date                                                                    \n",
       "2000-01-03                NaN     NaN    NaN    NaN     NaN       NaN   \n",
       "2000-01-04                NaN     NaN    NaN    NaN     NaN       NaN   \n",
       "2000-01-05                NaN     NaN    NaN    NaN     NaN       NaN   \n",
       "2000-01-06                NaN     NaN    NaN    NaN     NaN       NaN   \n",
       "2000-01-07                NaN     NaN    NaN    NaN     NaN       NaN   \n",
       "\n",
       "ticker     AC* MF Equity                        ... TLEVICPO MF Equity         \\\n",
       "field            PX_HIGH PX_LAST PX_LOW PX_MID  ...             PX_LOW PX_MID   \n",
       "date                                            ...                             \n",
       "2000-01-03           NaN     NaN    NaN    NaN  ...              30.44  30.50   \n",
       "2000-01-04           NaN     NaN    NaN    NaN  ...              27.30  27.45   \n",
       "2000-01-05           NaN     NaN    NaN    NaN  ...              25.90  27.15   \n",
       "2000-01-06           NaN     NaN    NaN    NaN  ...              27.00  27.08   \n",
       "2000-01-07           NaN     NaN    NaN    NaN  ...              26.75  28.35   \n",
       "\n",
       "ticker                        WALMEX* MF Equity                                \\\n",
       "field      PX_OPEN  PX_VOLUME           PX_HIGH PX_LAST PX_LOW PX_MID PX_OPEN   \n",
       "date                                                                            \n",
       "2000-01-03   32.20   680000.0              5.14    4.90   4.75   4.89    4.78   \n",
       "2000-01-04   28.80  2980000.0              4.83    4.82   4.73   4.83    4.80   \n",
       "2000-01-05   26.80  3430000.0              5.25    5.21   4.70   5.30    4.80   \n",
       "2000-01-06   27.30   850000.0              5.34    5.18   5.13   5.18    5.24   \n",
       "2000-01-07   26.98  2210000.0              5.63    5.51   5.19   5.69    5.19   \n",
       "\n",
       "ticker                  \n",
       "field        PX_VOLUME  \n",
       "date                    \n",
       "2000-01-03  17132000.0  \n",
       "2000-01-04  20296000.0  \n",
       "2000-01-05  20372000.0  \n",
       "2000-01-06  22904000.0  \n",
       "2000-01-07  23512000.0  \n",
       "\n",
       "[5 rows x 210 columns]"
      ]
     },
     "execution_count": 10,
     "metadata": {},
     "output_type": "execute_result"
    }
   ],
   "source": [
    "bmv = bmv.pivot_table(values=\"value\",\n",
    "                      index=\"date\",\n",
    "                      columns=[\"ticker\", \"field\"])\n",
    "bmv.head()"
   ]
  },
  {
   "cell_type": "code",
   "execution_count": 16,
   "metadata": {
    "ExecuteTime": {
     "end_time": "2020-02-23T01:50:40.164549Z",
     "start_time": "2020-02-23T01:50:40.152548Z"
    }
   },
   "outputs": [],
   "source": [
    "base_CEMEX = bmv['CEMEXCPO MF Equity']"
   ]
  },
  {
   "cell_type": "code",
   "execution_count": 17,
   "metadata": {
    "ExecuteTime": {
     "end_time": "2020-02-23T01:50:47.841231Z",
     "start_time": "2020-02-23T01:50:47.797225Z"
    }
   },
   "outputs": [
    {
     "data": {
      "text/html": [
       "<div>\n",
       "<style scoped>\n",
       "    .dataframe tbody tr th:only-of-type {\n",
       "        vertical-align: middle;\n",
       "    }\n",
       "\n",
       "    .dataframe tbody tr th {\n",
       "        vertical-align: top;\n",
       "    }\n",
       "\n",
       "    .dataframe thead th {\n",
       "        text-align: right;\n",
       "    }\n",
       "</style>\n",
       "<table border=\"1\" class=\"dataframe\">\n",
       "  <thead>\n",
       "    <tr style=\"text-align: right;\">\n",
       "      <th>field</th>\n",
       "      <th>PX_HIGH</th>\n",
       "      <th>PX_LAST</th>\n",
       "      <th>PX_LOW</th>\n",
       "      <th>PX_MID</th>\n",
       "      <th>PX_OPEN</th>\n",
       "      <th>PX_VOLUME</th>\n",
       "    </tr>\n",
       "    <tr>\n",
       "      <th>date</th>\n",
       "      <th></th>\n",
       "      <th></th>\n",
       "      <th></th>\n",
       "      <th></th>\n",
       "      <th></th>\n",
       "      <th></th>\n",
       "    </tr>\n",
       "  </thead>\n",
       "  <tbody>\n",
       "    <tr>\n",
       "      <td>2000-01-03</td>\n",
       "      <td>8.46</td>\n",
       "      <td>8.14</td>\n",
       "      <td>8.09</td>\n",
       "      <td>8.14</td>\n",
       "      <td>8.35</td>\n",
       "      <td>8755188.0</td>\n",
       "    </tr>\n",
       "    <tr>\n",
       "      <td>2000-01-04</td>\n",
       "      <td>7.89</td>\n",
       "      <td>7.62</td>\n",
       "      <td>7.61</td>\n",
       "      <td>7.61</td>\n",
       "      <td>7.86</td>\n",
       "      <td>26017417.0</td>\n",
       "    </tr>\n",
       "    <tr>\n",
       "      <td>2000-01-05</td>\n",
       "      <td>7.70</td>\n",
       "      <td>7.61</td>\n",
       "      <td>7.45</td>\n",
       "      <td>7.65</td>\n",
       "      <td>7.61</td>\n",
       "      <td>39735576.0</td>\n",
       "    </tr>\n",
       "    <tr>\n",
       "      <td>2000-01-06</td>\n",
       "      <td>7.71</td>\n",
       "      <td>7.50</td>\n",
       "      <td>7.43</td>\n",
       "      <td>7.50</td>\n",
       "      <td>7.65</td>\n",
       "      <td>14939813.0</td>\n",
       "    </tr>\n",
       "    <tr>\n",
       "      <td>2000-01-07</td>\n",
       "      <td>7.59</td>\n",
       "      <td>7.58</td>\n",
       "      <td>7.48</td>\n",
       "      <td>7.58</td>\n",
       "      <td>7.54</td>\n",
       "      <td>46276516.0</td>\n",
       "    </tr>\n",
       "    <tr>\n",
       "      <td>...</td>\n",
       "      <td>...</td>\n",
       "      <td>...</td>\n",
       "      <td>...</td>\n",
       "      <td>...</td>\n",
       "      <td>...</td>\n",
       "      <td>...</td>\n",
       "    </tr>\n",
       "    <tr>\n",
       "      <td>2019-09-20</td>\n",
       "      <td>8.02</td>\n",
       "      <td>7.98</td>\n",
       "      <td>7.74</td>\n",
       "      <td>8.00</td>\n",
       "      <td>7.79</td>\n",
       "      <td>171300571.0</td>\n",
       "    </tr>\n",
       "    <tr>\n",
       "      <td>2019-09-23</td>\n",
       "      <td>7.98</td>\n",
       "      <td>7.84</td>\n",
       "      <td>7.77</td>\n",
       "      <td>7.84</td>\n",
       "      <td>7.97</td>\n",
       "      <td>18713400.0</td>\n",
       "    </tr>\n",
       "    <tr>\n",
       "      <td>2019-09-24</td>\n",
       "      <td>7.86</td>\n",
       "      <td>7.79</td>\n",
       "      <td>7.76</td>\n",
       "      <td>7.78</td>\n",
       "      <td>7.85</td>\n",
       "      <td>16686571.0</td>\n",
       "    </tr>\n",
       "    <tr>\n",
       "      <td>2019-09-25</td>\n",
       "      <td>7.85</td>\n",
       "      <td>7.78</td>\n",
       "      <td>7.52</td>\n",
       "      <td>7.80</td>\n",
       "      <td>7.80</td>\n",
       "      <td>30096084.0</td>\n",
       "    </tr>\n",
       "    <tr>\n",
       "      <td>2019-09-26</td>\n",
       "      <td>7.80</td>\n",
       "      <td>7.77</td>\n",
       "      <td>7.70</td>\n",
       "      <td>7.78</td>\n",
       "      <td>7.80</td>\n",
       "      <td>23825282.0</td>\n",
       "    </tr>\n",
       "  </tbody>\n",
       "</table>\n",
       "<p>4983 rows × 6 columns</p>\n",
       "</div>"
      ],
      "text/plain": [
       "field       PX_HIGH  PX_LAST  PX_LOW  PX_MID  PX_OPEN    PX_VOLUME\n",
       "date                                                              \n",
       "2000-01-03     8.46     8.14    8.09    8.14     8.35    8755188.0\n",
       "2000-01-04     7.89     7.62    7.61    7.61     7.86   26017417.0\n",
       "2000-01-05     7.70     7.61    7.45    7.65     7.61   39735576.0\n",
       "2000-01-06     7.71     7.50    7.43    7.50     7.65   14939813.0\n",
       "2000-01-07     7.59     7.58    7.48    7.58     7.54   46276516.0\n",
       "...             ...      ...     ...     ...      ...          ...\n",
       "2019-09-20     8.02     7.98    7.74    8.00     7.79  171300571.0\n",
       "2019-09-23     7.98     7.84    7.77    7.84     7.97   18713400.0\n",
       "2019-09-24     7.86     7.79    7.76    7.78     7.85   16686571.0\n",
       "2019-09-25     7.85     7.78    7.52    7.80     7.80   30096084.0\n",
       "2019-09-26     7.80     7.77    7.70    7.78     7.80   23825282.0\n",
       "\n",
       "[4983 rows x 6 columns]"
      ]
     },
     "execution_count": 17,
     "metadata": {},
     "output_type": "execute_result"
    }
   ],
   "source": [
    "base_CEMEX"
   ]
  },
  {
   "cell_type": "markdown",
   "metadata": {},
   "source": [
    "---"
   ]
  },
  {
   "cell_type": "markdown",
   "metadata": {},
   "source": [
    "<h2 style=\"color:crimson\">Ejercicios</h2>\n",
    "\n",
    "En los ejercicios 1 a 5 analizaremos la volatilidad CEMEX (`\"CEMEXCPO MF Equity\"`)."
   ]
  },
  {
   "cell_type": "markdown",
   "metadata": {},
   "source": [
    "1. Declara la variable `cemex_close` siendo esta la columna `PX_LAST` dentro del DataFrame `bmv`; transforma el índice de `cemex_close` a fin de que sea un `DateTimeIndex`; posteriormente, declara la variable `cemex_diff` que contenga la diferencia de precios entre un día y el siguiente (**hint**: ocupa el método `shift`)\n",
    "\n",
    "Crea una figure usando matplotlib con 2 columnas: la primera columna deberá ser el histórico de `cemex_diff`; la segunda columna, un histograma de `cemex_diff` con `bins=20`."
   ]
  },
  {
   "cell_type": "markdown",
   "metadata": {},
   "source": [
    "**Solución:**"
   ]
  },
  {
   "cell_type": "code",
   "execution_count": 44,
   "metadata": {
    "ExecuteTime": {
     "end_time": "2020-02-24T01:56:45.113175Z",
     "start_time": "2020-02-24T01:56:43.845085Z"
    }
   },
   "outputs": [
    {
     "data": {
      "image/png": "[encoded data removed]",
      "text/plain": [
       "<Figure size 864x216 with 2 Axes>"
      ]
     },
     "metadata": {
      "image/png": {
       "height": 207,
       "width": 855
      },
      "needs_background": "light"
     },
     "output_type": "display_data"
    }
   ],
   "source": [
    "#Genera pandas series para el precio de cierre\n",
    "cemex_close = base_CEMEX['PX_LAST']\n",
    "\n",
    "#Cambia el index de str a datetime\n",
    "date_index = pd.to_datetime(cemex_close.index)\n",
    "cemex_close.index = date_index\n",
    "\n",
    "#Genera variable diferencial \n",
    "cemex_diff = cemex_close - cemex_close.shift(periods=1)\n",
    "cemex_diff\n",
    "\n",
    "\n",
    "#Genera gráfico\n",
    "fig, ax = plt.subplots(1,2)\n",
    "\n",
    "cemex_close.plot(ax=ax[0])\n",
    "plt.hist(cemex_diff, bins = 20)\n",
    "plt.tight_layout();"
   ]
  },
  {
   "cell_type": "markdown",
   "metadata": {},
   "source": [
    "---"
   ]
  },
  {
   "cell_type": "markdown",
   "metadata": {},
   "source": [
    "2. Realiza un _downsampling_ de `cemex_diff`: calcula la desviación estándar por trimestre del inicio de la historia hasta el 1 de junio de 2018. Guarda la información dentro la variable `cemex_std` y grafica un histograma con `bins=20`\n",
    "\n",
    "---"
   ]
  },
  {
   "cell_type": "markdown",
   "metadata": {},
   "source": [
    "**Solución:**"
   ]
  },
  {
   "cell_type": "code",
   "execution_count": 63,
   "metadata": {
    "ExecuteTime": {
     "end_time": "2020-02-24T02:14:24.391808Z",
     "start_time": "2020-02-24T02:14:23.963603Z"
    }
   },
   "outputs": [
    {
     "data": {
      "image/png": "[encoded data removed]",
      "text/plain": [
       "<Figure size 864x216 with 1 Axes>"
      ]
     },
     "metadata": {
      "image/png": {
       "height": 209,
       "width": 703
      },
      "needs_background": "light"
     },
     "output_type": "display_data"
    }
   ],
   "source": [
    "#Corta Serie Cemex\n",
    "Periodo_tiempo_final  = \"2018-06-01\"\n",
    "\n",
    "cemex_std = cemex_diff.loc[: Periodo_tiempo_final].resample(\"Q\").std()\n",
    "\n",
    "#Grafica desv. estándar trimestral\n",
    "plt.hist(cemex_std, bins = 20)\n",
    "plt.title('Histograma trimestral')\n",
    "plt.show()"
   ]
  },
  {
   "cell_type": "markdown",
   "metadata": {},
   "source": [
    "---"
   ]
  },
  {
   "cell_type": "markdown",
   "metadata": {},
   "source": [
    "3. Realiza nuevamente el ejercicio 3 calculando en este caso la desviación estándar por semana. ¿Qué diferencias observas entre las dos distribuciones de volatilidad?\n",
    "\n",
    "---"
   ]
  },
  {
   "cell_type": "markdown",
   "metadata": {},
   "source": [
    "**Solución:**"
   ]
  },
  {
   "cell_type": "code",
   "execution_count": 74,
   "metadata": {
    "ExecuteTime": {
     "end_time": "2020-02-24T03:40:39.908172Z",
     "start_time": "2020-02-24T03:40:39.428162Z"
    }
   },
   "outputs": [
    {
     "data": {
      "image/png": "[encoded data removed]",
      "text/plain": [
       "<Figure size 864x216 with 1 Axes>"
      ]
     },
     "metadata": {
      "image/png": {
       "height": 209,
       "width": 710
      },
      "needs_background": "light"
     },
     "output_type": "display_data"
    }
   ],
   "source": [
    "#Corta Serie Cemex\n",
    "Periodo_tiempo_final  = \"2018-06-01\"\n",
    "\n",
    "cemex_std = cemex_diff.loc[: Periodo_tiempo_final].resample(\"W\").std()\n",
    "\n",
    "#Grafica desv. estándar semanal\n",
    "plt.hist(cemex_std, bins = 20)\n",
    "plt.title('Histograma semanal')\n",
    "plt.show()\n"
   ]
  },
  {
   "cell_type": "markdown",
   "metadata": {},
   "source": [
    "La volatilidad con la periodicidad semanal tiene una caída más suave. "
   ]
  },
  {
   "cell_type": "markdown",
   "metadata": {},
   "source": [
    "---"
   ]
  },
  {
   "cell_type": "markdown",
   "metadata": {},
   "source": [
    "4. En este ejercicio analizaremos la volatilidad por mes considerando `cemex_diff`. Corre el siguiente código y explica que hace:\n",
    "\n",
    "```python\n",
    "months = cemex_diff.index.strftime(\"%B\")\n",
    "cemex_diff.groupby(months).mean().plot(kind=\"bar\")\n",
    "```\n",
    "\n",
    "¿Cómo podrías explicar la gráfica resultante?\n",
    "\n",
    "---"
   ]
  },
  {
   "cell_type": "markdown",
   "metadata": {},
   "source": [
    "**Solución:**"
   ]
  },
  {
   "cell_type": "code",
   "execution_count": 68,
   "metadata": {
    "ExecuteTime": {
     "end_time": "2020-02-24T02:17:31.471310Z",
     "start_time": "2020-02-24T02:17:30.896600Z"
    }
   },
   "outputs": [
    {
     "data": {
      "text/plain": [
       "<matplotlib.axes._subplots.AxesSubplot at 0x2312e5c4e88>"
      ]
     },
     "execution_count": 68,
     "metadata": {},
     "output_type": "execute_result"
    },
    {
     "data": {
      "image/png": "[encoded data removed]",
      "text/plain": [
       "<Figure size 864x216 with 1 Axes>"
      ]
     },
     "metadata": {
      "image/png": {
       "height": 243,
       "width": 721
      },
      "needs_background": "light"
     },
     "output_type": "display_data"
    }
   ],
   "source": [
    "months = cemex_diff.index.strftime(\"%B\")\n",
    "cemex_diff.groupby(months).mean().plot(kind=\"bar\")"
   ]
  },
  {
   "cell_type": "markdown",
   "metadata": {
    "ExecuteTime": {
     "end_time": "2020-02-24T02:16:52.938442Z",
     "start_time": "2020-02-24T02:16:52.931441Z"
    }
   },
   "source": [
    "La primera línea de código, genera un *pandas series* con el mismo tamaño que la serie \"cemex_dif\" con el nómbre del mes del índice para cada observación.  \n",
    "La segunda línea de código genera un gráfico de barras sobre la media de un agrupado para la diferencia de precios de un día con respecto al siguiente.  \n",
    "  \n",
    "Sobre la gráfica, está acomodada alfabéticamente por el nombre del mes. Podemos ver cómo la gráfica mide el promedio de \"diferencias\" entre precios. Por lo que está en torno a 0.\n"
   ]
  },
  {
   "cell_type": "markdown",
   "metadata": {},
   "source": [
    "---"
   ]
  },
  {
   "cell_type": "markdown",
   "metadata": {},
   "source": [
    "5. Realiza nuevamente el ejercicio 4 considerando `cemexs_last`. ¿Por qué difieren las gráficas?\n",
    "\n",
    "---"
   ]
  },
  {
   "cell_type": "markdown",
   "metadata": {},
   "source": [
    "**Solución:**"
   ]
  },
  {
   "cell_type": "code",
   "execution_count": 73,
   "metadata": {
    "ExecuteTime": {
     "end_time": "2020-02-24T02:36:40.915057Z",
     "start_time": "2020-02-24T02:36:40.358313Z"
    }
   },
   "outputs": [
    {
     "data": {
      "text/plain": [
       "<matplotlib.axes._subplots.AxesSubplot at 0x231361a6848>"
      ]
     },
     "execution_count": 73,
     "metadata": {},
     "output_type": "execute_result"
    },
    {
     "data": {
      "image/png": "[encoded data removed]",
      "text/plain": [
       "<Figure size 864x216 with 1 Axes>"
      ]
     },
     "metadata": {
      "image/png": {
       "height": 240,
       "width": 703
      },
      "needs_background": "light"
     },
     "output_type": "display_data"
    }
   ],
   "source": [
    "months = cemex_close.index.strftime(\"%B\")\n",
    "cemex_close.groupby(months).mean().plot(kind=\"bar\")\n"
   ]
  },
  {
   "cell_type": "markdown",
   "metadata": {},
   "source": [
    "La primer gráfica muestra las diferencia intra-precios a día vencido, mientras que la segunda diferencia muestra el promedio del precio para cada mes que la acción cotizó. \n"
   ]
  },
  {
   "cell_type": "markdown",
   "metadata": {},
   "source": [
    "---"
   ]
  }
 ],
 "metadata": {
  "kernelspec": {
   "display_name": "Python 3",
   "language": "python",
   "name": "python3"
  },
  "language_info": {
   "codemirror_mode": {
    "name": "ipython",
    "version": 3
   },
   "file_extension": ".py",
   "mimetype": "text/x-python",
   "name": "python",
   "nbconvert_exporter": "python",
   "pygments_lexer": "ipython3",
   "version": "3.7.4"
  },
  "toc": {
   "base_numbering": "0",
   "nav_menu": {},
   "number_sections": true,
   "sideBar": true,
   "skip_h1_title": false,
   "title_cell": "Table of Contents",
   "title_sidebar": "Contents",
   "toc_cell": false,
   "toc_position": {},
   "toc_section_display": true,
   "toc_window_display": true
  },
  "varInspector": {
   "cols": {
    "lenName": 16,
    "lenType": 16,
    "lenVar": 40
   },
   "kernels_config": {
    "python": {
     "delete_cmd_postfix": "",
     "delete_cmd_prefix": "del ",
     "library": "var_list.py",
     "varRefreshCmd": "print(var_dic_list())"
    },
    "r": {
     "delete_cmd_postfix": ") ",
     "delete_cmd_prefix": "rm(",
     "library": "var_list.r",
     "varRefreshCmd": "cat(var_dic_list()) "
    }
   },
   "types_to_exclude": [
    "module",
    "function",
    "builtin_function_or_method",
    "instance",
    "_Feature"
   ],
   "window_display": false
  }
 },
 "nbformat": 4,
 "nbformat_minor": 2
}

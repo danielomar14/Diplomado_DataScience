{
 "cells": [
  {
   "cell_type": "markdown",
   "metadata": {},
   "source": [
    "---"
   ]
  },
  {
   "cell_type": "code",
   "execution_count": 313,
   "metadata": {
    "ExecuteTime": {
     "end_time": "2020-03-16T20:05:38.703298Z",
     "start_time": "2020-03-16T20:05:38.698293Z"
    },
    "hide_input": true
   },
   "outputs": [
    {
     "data": {
      "image/png": "[encoded data removed]",
      "text/plain": [
       "<IPython.core.display.Image object>"
      ]
     },
     "metadata": {
      "image/png": {
       "unconfined": true,
       "width": 500
      }
     },
     "output_type": "display_data"
    }
   ],
   "source": [
    "# Inicio de M para usuarios.\n",
    "from IPython.core.display import Image, display\n",
    "from tqdm import tqdm\n",
    "display(Image('itam_logo.png', width=500, unconfined=True))"
   ]
  },
  {
   "cell_type": "markdown",
   "metadata": {},
   "source": [
    "<font color='#508072'> \n",
    "$ \\small \\textbf {Data science and machine learning applied to financial markets} $  \n",
    "$ \\small  {Author: Daniel \\space Omar \\space Becerril \\space Olguín} $  \n",
    "$ \\small {CU: 183605} $\n",
    "\n"
   ]
  },
  {
   "cell_type": "markdown",
   "metadata": {},
   "source": [
    "---  \n",
    "---"
   ]
  },
  {
   "cell_type": "markdown",
   "metadata": {
    "ExecuteTime": {
     "end_time": "2020-03-16T17:00:29.499268Z",
     "start_time": "2020-03-16T17:00:29.495275Z"
    }
   },
   "source": [
    "<font color='#508072'> \n",
    "$ \\LARGE \\textbf {Proyecto final:} $  \n",
    "$ \\large {BANXICO, \\space politica \\space monetaria} $"
   ]
  },
  {
   "cell_type": "markdown",
   "metadata": {},
   "source": [
    "---"
   ]
  },
  {
   "cell_type": "markdown",
   "metadata": {},
   "source": [
    "## Importa librerías"
   ]
  },
  {
   "cell_type": "code",
   "execution_count": 75,
   "metadata": {
    "ExecuteTime": {
     "end_time": "2020-03-16T23:09:23.958813Z",
     "start_time": "2020-03-16T23:09:22.540678Z"
    }
   },
   "outputs": [],
   "source": [
    "import re\n",
    "import os\n",
    "import pandas as pd\n",
    "import matplotlib.pyplot as plt\n",
    "import numpy as np\n",
    "from requests_html import HTMLSession\n",
    "from collections import defaultdict\n",
    "from unidecode import unidecode\n",
    "from datetime import datetime\n",
    "from sklearn.metrics import confusion_matrix\n",
    "import seaborn as sn\n",
    "\n",
    "\n",
    "%config InlineBackend.figure_format = \"retina\"\n",
    "plt.rcParams[\"figure.figsize\"] = (12, 4)"
   ]
  },
  {
   "cell_type": "markdown",
   "metadata": {},
   "source": [
    "## Input (Web Scrapping)"
   ]
  },
  {
   "cell_type": "code",
   "execution_count": 5,
   "metadata": {
    "ExecuteTime": {
     "end_time": "2020-03-16T23:09:25.305147Z",
     "start_time": "2020-03-16T23:09:25.299151Z"
    }
   },
   "outputs": [
    {
     "name": "stdout",
     "output_type": "stream",
     "text": [
      "https://www.banxico.org.mx/publicaciones-y-prensa/anuncios-de-las-decisiones-de-politica-monetaria/anuncios-politica-monetaria-t.html\n"
     ]
    }
   ],
   "source": [
    "#URL \n",
    "url = (\"https://www.banxico.org.mx/publicaciones-y-prensa/\"\n",
    "      \"anuncios-de-las-decisiones-de-politica-monetaria/\"\n",
    "      \"anuncios-politica-monetaria-t.html\")\n",
    "\n",
    "print(url)"
   ]
  },
  {
   "cell_type": "code",
   "execution_count": 6,
   "metadata": {
    "ExecuteTime": {
     "end_time": "2020-03-16T23:09:27.277826Z",
     "start_time": "2020-03-16T23:09:27.210737Z"
    }
   },
   "outputs": [
    {
     "data": {
      "text/plain": [
       "<Response [200]>"
      ]
     },
     "execution_count": 6,
     "metadata": {},
     "output_type": "execute_result"
    }
   ],
   "source": [
    "#Inicio de Sesión \n",
    "\n",
    "with HTMLSession() as sess:\n",
    "    r = sess.get(url)\n",
    "r"
   ]
  },
  {
   "cell_type": "code",
   "execution_count": 7,
   "metadata": {
    "ExecuteTime": {
     "end_time": "2020-03-16T23:09:28.418830Z",
     "start_time": "2020-03-16T23:09:28.258750Z"
    }
   },
   "outputs": [],
   "source": [
    "#Webb Scrapping sobre publicación\n",
    "divpage = r.html.find(\"table[class='table table-striped bmtableview']\", first=True)\n",
    "papers_links = divpage.find(\"tr\")"
   ]
  },
  {
   "cell_type": "code",
   "execution_count": 8,
   "metadata": {
    "ExecuteTime": {
     "end_time": "2020-03-16T23:09:29.339324Z",
     "start_time": "2020-03-16T23:09:29.034855Z"
    }
   },
   "outputs": [],
   "source": [
    "#Genera lista con elementos deseados\n",
    "values = []\n",
    "for link_secc in zip(papers_links):\n",
    "    AbstractText = link_secc[0].find(\"td[class='bmtextview']\", first=True).text\n",
    "    referenceDate = link_secc[0].find(\"td[class='bmdateview']\", first=True).text\n",
    "    url_links = link_secc[0].absolute_links\n",
    "    \n",
    "    values.append([referenceDate, AbstractText, url_links])"
   ]
  },
  {
   "cell_type": "code",
   "execution_count": 9,
   "metadata": {
    "ExecuteTime": {
     "end_time": "2020-03-16T23:09:30.189534Z",
     "start_time": "2020-03-16T23:09:30.177522Z"
    }
   },
   "outputs": [
    {
     "data": {
      "text/html": [
       "<div>\n",
       "<style scoped>\n",
       "    .dataframe tbody tr th:only-of-type {\n",
       "        vertical-align: middle;\n",
       "    }\n",
       "\n",
       "    .dataframe tbody tr th {\n",
       "        vertical-align: top;\n",
       "    }\n",
       "\n",
       "    .dataframe thead th {\n",
       "        text-align: right;\n",
       "    }\n",
       "</style>\n",
       "<table border=\"1\" class=\"dataframe\">\n",
       "  <thead>\n",
       "    <tr style=\"text-align: right;\">\n",
       "      <th></th>\n",
       "      <th>date</th>\n",
       "      <th>text</th>\n",
       "      <th>url</th>\n",
       "    </tr>\n",
       "  </thead>\n",
       "  <tbody>\n",
       "    <tr>\n",
       "      <th>0</th>\n",
       "      <td>13/02/20</td>\n",
       "      <td>El objetivo para la Tasa de Inter�s Interbanca...</td>\n",
       "      <td>{https://www.banxico.org.mx/publicaciones-y-pr...</td>\n",
       "    </tr>\n",
       "    <tr>\n",
       "      <th>1</th>\n",
       "      <td>19/12/19</td>\n",
       "      <td>El objetivo para la Tasa de Inter�s Interbanca...</td>\n",
       "      <td>{https://www.banxico.org.mx/publicaciones-y-pr...</td>\n",
       "    </tr>\n",
       "    <tr>\n",
       "      <th>2</th>\n",
       "      <td>14/11/19</td>\n",
       "      <td>El objetivo para la Tasa de Inter�s Interbanca...</td>\n",
       "      <td>{https://www.banxico.org.mx/publicaciones-y-pr...</td>\n",
       "    </tr>\n",
       "    <tr>\n",
       "      <th>3</th>\n",
       "      <td>26/09/19</td>\n",
       "      <td>El objetivo para la Tasa de Inter�s Interbanca...</td>\n",
       "      <td>{https://www.banxico.org.mx/publicaciones-y-pr...</td>\n",
       "    </tr>\n",
       "    <tr>\n",
       "      <th>4</th>\n",
       "      <td>15/08/19</td>\n",
       "      <td>El objetivo para la Tasa de Inter�s Interbanca...</td>\n",
       "      <td>{https://www.banxico.org.mx/publicaciones-y-pr...</td>\n",
       "    </tr>\n",
       "  </tbody>\n",
       "</table>\n",
       "</div>"
      ],
      "text/plain": [
       "       date                                               text  \\\n",
       "0  13/02/20  El objetivo para la Tasa de Inter�s Interbanca...   \n",
       "1  19/12/19  El objetivo para la Tasa de Inter�s Interbanca...   \n",
       "2  14/11/19  El objetivo para la Tasa de Inter�s Interbanca...   \n",
       "3  26/09/19  El objetivo para la Tasa de Inter�s Interbanca...   \n",
       "4  15/08/19  El objetivo para la Tasa de Inter�s Interbanca...   \n",
       "\n",
       "                                                 url  \n",
       "0  {https://www.banxico.org.mx/publicaciones-y-pr...  \n",
       "1  {https://www.banxico.org.mx/publicaciones-y-pr...  \n",
       "2  {https://www.banxico.org.mx/publicaciones-y-pr...  \n",
       "3  {https://www.banxico.org.mx/publicaciones-y-pr...  \n",
       "4  {https://www.banxico.org.mx/publicaciones-y-pr...  "
      ]
     },
     "execution_count": 9,
     "metadata": {},
     "output_type": "execute_result"
    }
   ],
   "source": [
    "#Genera DF\n",
    "df_values = pd.DataFrame(values, columns=[\"date\", \"text\", \"url\"])\n",
    "df_values.head()"
   ]
  },
  {
   "cell_type": "code",
   "execution_count": 10,
   "metadata": {
    "ExecuteTime": {
     "end_time": "2020-03-16T23:09:31.111758Z",
     "start_time": "2020-03-16T23:09:31.082732Z"
    }
   },
   "outputs": [
    {
     "data": {
      "text/html": [
       "<div>\n",
       "<style scoped>\n",
       "    .dataframe tbody tr th:only-of-type {\n",
       "        vertical-align: middle;\n",
       "    }\n",
       "\n",
       "    .dataframe tbody tr th {\n",
       "        vertical-align: top;\n",
       "    }\n",
       "\n",
       "    .dataframe thead th {\n",
       "        text-align: right;\n",
       "    }\n",
       "</style>\n",
       "<table border=\"1\" class=\"dataframe\">\n",
       "  <thead>\n",
       "    <tr style=\"text-align: right;\">\n",
       "      <th></th>\n",
       "      <th>date</th>\n",
       "      <th>text</th>\n",
       "      <th>url</th>\n",
       "    </tr>\n",
       "  </thead>\n",
       "  <tbody>\n",
       "    <tr>\n",
       "      <th>105</th>\n",
       "      <td>2008-02-15</td>\n",
       "      <td>El objetivo para la Tasa de Inter�s Interbanca...</td>\n",
       "      <td>{https://www.banxico.org.mx/publicaciones-y-pr...</td>\n",
       "    </tr>\n",
       "    <tr>\n",
       "      <th>104</th>\n",
       "      <td>2008-03-14</td>\n",
       "      <td>El objetivo para la Tasa de Inter�s Interbanca...</td>\n",
       "      <td>{https://www.banxico.org.mx/publicaciones-y-pr...</td>\n",
       "    </tr>\n",
       "    <tr>\n",
       "      <th>103</th>\n",
       "      <td>2008-04-18</td>\n",
       "      <td>El objetivo para la Tasa de Inter�s Interbanca...</td>\n",
       "      <td>{https://www.banxico.org.mx/publicaciones-y-pr...</td>\n",
       "    </tr>\n",
       "    <tr>\n",
       "      <th>102</th>\n",
       "      <td>2008-05-16</td>\n",
       "      <td>El objetivo para la Tasa de Inter�s Interbanca...</td>\n",
       "      <td>{https://www.banxico.org.mx/publicaciones-y-pr...</td>\n",
       "    </tr>\n",
       "    <tr>\n",
       "      <th>101</th>\n",
       "      <td>2008-06-20</td>\n",
       "      <td>El objetivo para la Tasa de Inter�s Interbanca...</td>\n",
       "      <td>{https://www.banxico.org.mx/publicaciones-y-pr...</td>\n",
       "    </tr>\n",
       "  </tbody>\n",
       "</table>\n",
       "</div>"
      ],
      "text/plain": [
       "          date                                               text  \\\n",
       "105 2008-02-15  El objetivo para la Tasa de Inter�s Interbanca...   \n",
       "104 2008-03-14  El objetivo para la Tasa de Inter�s Interbanca...   \n",
       "103 2008-04-18  El objetivo para la Tasa de Inter�s Interbanca...   \n",
       "102 2008-05-16  El objetivo para la Tasa de Inter�s Interbanca...   \n",
       "101 2008-06-20  El objetivo para la Tasa de Inter�s Interbanca...   \n",
       "\n",
       "                                                   url  \n",
       "105  {https://www.banxico.org.mx/publicaciones-y-pr...  \n",
       "104  {https://www.banxico.org.mx/publicaciones-y-pr...  \n",
       "103  {https://www.banxico.org.mx/publicaciones-y-pr...  \n",
       "102  {https://www.banxico.org.mx/publicaciones-y-pr...  \n",
       "101  {https://www.banxico.org.mx/publicaciones-y-pr...  "
      ]
     },
     "execution_count": 10,
     "metadata": {},
     "output_type": "execute_result"
    }
   ],
   "source": [
    "#Filtro para quitar fechas\n",
    "Filtro_fecha = '2008-02-15'\n",
    "\n",
    "df_values.date = pd.to_datetime(df_values.date)\n",
    "df_values = df_values[df_values.date >= Filtro_fecha]\n",
    "\n",
    "df_values.sort_values(by='date', ascending=True, inplace=True)\n",
    "df_values.head()"
   ]
  },
  {
   "cell_type": "code",
   "execution_count": 11,
   "metadata": {
    "ExecuteTime": {
     "end_time": "2020-03-16T23:09:32.205864Z",
     "start_time": "2020-03-16T23:09:32.202761Z"
    }
   },
   "outputs": [],
   "source": [
    "df_values.reset_index(inplace=True)"
   ]
  },
  {
   "cell_type": "code",
   "execution_count": 12,
   "metadata": {
    "ExecuteTime": {
     "end_time": "2020-03-16T23:09:33.038867Z",
     "start_time": "2020-03-16T23:09:33.034864Z"
    }
   },
   "outputs": [],
   "source": [
    "#Guarda pickle\n",
    "df_values.to_pickle(\"./comunicados-banxico.pkl\")\n",
    "\n"
   ]
  },
  {
   "cell_type": "markdown",
   "metadata": {
    "ExecuteTime": {
     "end_time": "2020-03-16T18:32:43.552382Z",
     "start_time": "2020-03-16T18:32:43.549370Z"
    }
   },
   "source": [
    "## Genera Variable Objetivo"
   ]
  },
  {
   "cell_type": "code",
   "execution_count": 13,
   "metadata": {
    "ExecuteTime": {
     "end_time": "2020-03-16T23:09:34.273556Z",
     "start_time": "2020-03-16T23:09:34.268552Z"
    }
   },
   "outputs": [
    {
     "data": {
      "text/plain": [
       "Index(['index', 'date', 'text', 'url'], dtype='object')"
      ]
     },
     "execution_count": 13,
     "metadata": {},
     "output_type": "execute_result"
    }
   ],
   "source": [
    "#Convierte la columna text en texto\n",
    "df_values['text'] = df_values['text'].astype(str)\n",
    "df_values.columns"
   ]
  },
  {
   "cell_type": "code",
   "execution_count": 14,
   "metadata": {
    "ExecuteTime": {
     "end_time": "2020-03-16T23:09:34.791726Z",
     "start_time": "2020-03-16T23:09:34.786731Z"
    }
   },
   "outputs": [
    {
     "data": {
      "text/plain": [
       "'El objetivo para la Tasa de Inter�s Interbancaria a 1 d�a (tasa objetivo) se incrementa en 25 puntos base\\nTexto completo'"
      ]
     },
     "execution_count": 14,
     "metadata": {},
     "output_type": "execute_result"
    }
   ],
   "source": [
    "#Prueba extracción de variable objetivo\n",
    "df_values['text'][4]"
   ]
  },
  {
   "cell_type": "code",
   "execution_count": 15,
   "metadata": {
    "ExecuteTime": {
     "end_time": "2020-03-16T23:09:35.287534Z",
     "start_time": "2020-03-16T23:09:35.274513Z"
    }
   },
   "outputs": [
    {
     "data": {
      "text/html": [
       "<div>\n",
       "<style scoped>\n",
       "    .dataframe tbody tr th:only-of-type {\n",
       "        vertical-align: middle;\n",
       "    }\n",
       "\n",
       "    .dataframe tbody tr th {\n",
       "        vertical-align: top;\n",
       "    }\n",
       "\n",
       "    .dataframe thead th {\n",
       "        text-align: right;\n",
       "    }\n",
       "</style>\n",
       "<table border=\"1\" class=\"dataframe\">\n",
       "  <thead>\n",
       "    <tr style=\"text-align: right;\">\n",
       "      <th></th>\n",
       "      <th>index</th>\n",
       "      <th>date</th>\n",
       "      <th>text</th>\n",
       "      <th>url</th>\n",
       "      <th>category</th>\n",
       "    </tr>\n",
       "  </thead>\n",
       "  <tbody>\n",
       "    <tr>\n",
       "      <th>0</th>\n",
       "      <td>105</td>\n",
       "      <td>2008-02-15</td>\n",
       "      <td>El objetivo para la Tasa de Inter�s Interbanca...</td>\n",
       "      <td>{https://www.banxico.org.mx/publicaciones-y-pr...</td>\n",
       "      <td>mantiene</td>\n",
       "    </tr>\n",
       "    <tr>\n",
       "      <th>1</th>\n",
       "      <td>104</td>\n",
       "      <td>2008-03-14</td>\n",
       "      <td>El objetivo para la Tasa de Inter�s Interbanca...</td>\n",
       "      <td>{https://www.banxico.org.mx/publicaciones-y-pr...</td>\n",
       "      <td>mantiene</td>\n",
       "    </tr>\n",
       "    <tr>\n",
       "      <th>2</th>\n",
       "      <td>103</td>\n",
       "      <td>2008-04-18</td>\n",
       "      <td>El objetivo para la Tasa de Inter�s Interbanca...</td>\n",
       "      <td>{https://www.banxico.org.mx/publicaciones-y-pr...</td>\n",
       "      <td>mantiene</td>\n",
       "    </tr>\n",
       "    <tr>\n",
       "      <th>3</th>\n",
       "      <td>102</td>\n",
       "      <td>2008-05-16</td>\n",
       "      <td>El objetivo para la Tasa de Inter�s Interbanca...</td>\n",
       "      <td>{https://www.banxico.org.mx/publicaciones-y-pr...</td>\n",
       "      <td>mantiene</td>\n",
       "    </tr>\n",
       "    <tr>\n",
       "      <th>4</th>\n",
       "      <td>101</td>\n",
       "      <td>2008-06-20</td>\n",
       "      <td>El objetivo para la Tasa de Inter�s Interbanca...</td>\n",
       "      <td>{https://www.banxico.org.mx/publicaciones-y-pr...</td>\n",
       "      <td>incrementa</td>\n",
       "    </tr>\n",
       "  </tbody>\n",
       "</table>\n",
       "</div>"
      ],
      "text/plain": [
       "   index       date                                               text  \\\n",
       "0    105 2008-02-15  El objetivo para la Tasa de Inter�s Interbanca...   \n",
       "1    104 2008-03-14  El objetivo para la Tasa de Inter�s Interbanca...   \n",
       "2    103 2008-04-18  El objetivo para la Tasa de Inter�s Interbanca...   \n",
       "3    102 2008-05-16  El objetivo para la Tasa de Inter�s Interbanca...   \n",
       "4    101 2008-06-20  El objetivo para la Tasa de Inter�s Interbanca...   \n",
       "\n",
       "                                                 url     category  \n",
       "0  {https://www.banxico.org.mx/publicaciones-y-pr...     mantiene  \n",
       "1  {https://www.banxico.org.mx/publicaciones-y-pr...     mantiene  \n",
       "2  {https://www.banxico.org.mx/publicaciones-y-pr...     mantiene  \n",
       "3  {https://www.banxico.org.mx/publicaciones-y-pr...     mantiene  \n",
       "4  {https://www.banxico.org.mx/publicaciones-y-pr...   incrementa  "
      ]
     },
     "execution_count": 15,
     "metadata": {},
     "output_type": "execute_result"
    }
   ],
   "source": [
    "#Extracción de variable objetivo\n",
    "df_values['category'] = df_values['text'].str.extract('(\\W[a-z]\\w{8,})')\n",
    "df_values.category.fillna('mantiene', inplace = True)\n",
    "df_values.head()"
   ]
  },
  {
   "cell_type": "markdown",
   "metadata": {
    "ExecuteTime": {
     "end_time": "2020-03-16T19:56:00.047760Z",
     "start_time": "2020-03-16T19:56:00.044767Z"
    }
   },
   "source": [
    "### Estadísticos (Variable Obj)"
   ]
  },
  {
   "cell_type": "code",
   "execution_count": 71,
   "metadata": {
    "ExecuteTime": {
     "end_time": "2020-03-16T23:09:36.173287Z",
     "start_time": "2020-03-16T23:09:36.163277Z"
    }
   },
   "outputs": [
    {
     "data": {
      "text/html": [
       "<div>\n",
       "<style scoped>\n",
       "    .dataframe tbody tr th:only-of-type {\n",
       "        vertical-align: middle;\n",
       "    }\n",
       "\n",
       "    .dataframe tbody tr th {\n",
       "        vertical-align: top;\n",
       "    }\n",
       "\n",
       "    .dataframe thead th {\n",
       "        text-align: right;\n",
       "    }\n",
       "</style>\n",
       "<table border=\"1\" class=\"dataframe\">\n",
       "  <thead>\n",
       "    <tr style=\"text-align: right;\">\n",
       "      <th></th>\n",
       "      <th>index</th>\n",
       "      <th>date</th>\n",
       "      <th>text</th>\n",
       "      <th>url</th>\n",
       "      <th>Val_num</th>\n",
       "      <th>anio</th>\n",
       "    </tr>\n",
       "    <tr>\n",
       "      <th>category</th>\n",
       "      <th></th>\n",
       "      <th></th>\n",
       "      <th></th>\n",
       "      <th></th>\n",
       "      <th></th>\n",
       "      <th></th>\n",
       "    </tr>\n",
       "  </thead>\n",
       "  <tbody>\n",
       "    <tr>\n",
       "      <th>disminuye</th>\n",
       "      <td>16</td>\n",
       "      <td>16</td>\n",
       "      <td>16</td>\n",
       "      <td>16</td>\n",
       "      <td>16</td>\n",
       "      <td>16</td>\n",
       "    </tr>\n",
       "    <tr>\n",
       "      <th>incrementa</th>\n",
       "      <td>18</td>\n",
       "      <td>18</td>\n",
       "      <td>18</td>\n",
       "      <td>18</td>\n",
       "      <td>18</td>\n",
       "      <td>18</td>\n",
       "    </tr>\n",
       "    <tr>\n",
       "      <th>mantiene</th>\n",
       "      <td>72</td>\n",
       "      <td>72</td>\n",
       "      <td>72</td>\n",
       "      <td>72</td>\n",
       "      <td>72</td>\n",
       "      <td>72</td>\n",
       "    </tr>\n",
       "  </tbody>\n",
       "</table>\n",
       "</div>"
      ],
      "text/plain": [
       "             index  date  text  url  Val_num  anio\n",
       "category                                          \n",
       " disminuye      16    16    16   16       16    16\n",
       " incrementa     18    18    18   18       18    18\n",
       "mantiene        72    72    72   72       72    72"
      ]
     },
     "execution_count": 71,
     "metadata": {},
     "output_type": "execute_result"
    }
   ],
   "source": [
    "#Distribución \"category\"\n",
    "df_values['category'] = df_values['category'].astype(str)\n",
    "df_values.groupby(\"category\").count()\n"
   ]
  },
  {
   "cell_type": "code",
   "execution_count": 72,
   "metadata": {
    "ExecuteTime": {
     "end_time": "2020-03-16T23:09:54.629372Z",
     "start_time": "2020-03-16T23:09:54.444552Z"
    },
    "hide_input": false
   },
   "outputs": [
    {
     "data": {
      "image/png": "[encoded data removed]",
      "text/plain": [
       "<Figure size 864x288 with 1 Axes>"
      ]
     },
     "metadata": {
      "image/png": {
       "height": 274,
       "width": 710
      }
     },
     "output_type": "display_data"
    }
   ],
   "source": [
    "#Gráfico de barras\n",
    "df_bar_plot = df_values.groupby(\"category\").count()\n",
    "ax = df_bar_plot.plot.bar(y='index', rot=0)"
   ]
  },
  {
   "cell_type": "code",
   "execution_count": 73,
   "metadata": {
    "ExecuteTime": {
     "end_time": "2020-03-16T23:09:57.684129Z",
     "start_time": "2020-03-16T23:09:57.675120Z"
    }
   },
   "outputs": [],
   "source": [
    "#Define variable para serie numérica\n",
    "def f(row):\n",
    "    if row['category'] == ' incrementa':\n",
    "        val = 1\n",
    "    elif row['category'] == 'mantiene':\n",
    "        val = 0\n",
    "    else:\n",
    "        val = -1\n",
    "    return val\n",
    "\n",
    "df_values['Val_num'] = df_values.apply(f, axis=1)"
   ]
  },
  {
   "cell_type": "code",
   "execution_count": 74,
   "metadata": {
    "ExecuteTime": {
     "end_time": "2020-03-16T23:09:58.454167Z",
     "start_time": "2020-03-16T23:09:58.451165Z"
    }
   },
   "outputs": [],
   "source": [
    "#Redefine el index\n",
    "df_values.index = df_values.date"
   ]
  },
  {
   "cell_type": "code",
   "execution_count": 76,
   "metadata": {
    "ExecuteTime": {
     "end_time": "2020-03-16T23:09:59.323624Z",
     "start_time": "2020-03-16T23:09:59.138931Z"
    }
   },
   "outputs": [
    {
     "data": {
      "text/plain": [
       "<matplotlib.axes._subplots.AxesSubplot at 0x2a6ec42ad48>"
      ]
     },
     "execution_count": 76,
     "metadata": {},
     "output_type": "execute_result"
    },
    {
     "data": {
      "image/png": "[encoded data removed]",
      "text/plain": [
       "<Figure size 864x288 with 1 Axes>"
      ]
     },
     "metadata": {
      "image/png": {
       "height": 268,
       "width": 723
      }
     },
     "output_type": "display_data"
    }
   ],
   "source": [
    "#Gráfico serie numérica \n",
    "df_values['Val_num'].plot(marker='+', alpha=0.8, linestyle='None')"
   ]
  },
  {
   "cell_type": "markdown",
   "metadata": {},
   "source": [
    "### Variable Obj (Por año)"
   ]
  },
  {
   "cell_type": "code",
   "execution_count": 77,
   "metadata": {
    "ExecuteTime": {
     "end_time": "2020-03-16T23:10:01.847589Z",
     "start_time": "2020-03-16T23:10:01.842577Z"
    }
   },
   "outputs": [],
   "source": [
    "df_values['anio'] = df_values['date'].dt.year"
   ]
  },
  {
   "cell_type": "code",
   "execution_count": 78,
   "metadata": {
    "ExecuteTime": {
     "end_time": "2020-03-16T23:10:02.291101Z",
     "start_time": "2020-03-16T23:10:02.283095Z"
    }
   },
   "outputs": [
    {
     "data": {
      "text/plain": [
       "anio  category   \n",
       "2008   incrementa     3\n",
       "      mantiene        7\n",
       "2009   disminuye      7\n",
       "      mantiene        4\n",
       "2010  mantiene       11\n",
       "2011  mantiene        8\n",
       "2012  mantiene        8\n",
       "2013   disminuye      3\n",
       "      mantiene        5\n",
       "2014   disminuye      1\n",
       "      mantiene        7\n",
       "2015   incrementa     1\n",
       "      mantiene        7\n",
       "2016   incrementa     5\n",
       "      mantiene        4\n",
       "2017   incrementa     5\n",
       "      mantiene        3\n",
       "2018   incrementa     4\n",
       "      mantiene        4\n",
       "2019   disminuye      4\n",
       "      mantiene        4\n",
       "2020   disminuye      1\n",
       "Name: Val_num, dtype: int64"
      ]
     },
     "execution_count": 78,
     "metadata": {},
     "output_type": "execute_result"
    }
   ],
   "source": [
    "df_values.groupby(['anio','category'])['Val_num'].count()"
   ]
  },
  {
   "cell_type": "code",
   "execution_count": 79,
   "metadata": {
    "ExecuteTime": {
     "end_time": "2020-03-16T23:10:04.798897Z",
     "start_time": "2020-03-16T23:10:04.507235Z"
    }
   },
   "outputs": [
    {
     "data": {
      "image/png": "[encoded data removed]",
      "text/plain": [
       "<Figure size 864x288 with 1 Axes>"
      ]
     },
     "metadata": {
      "image/png": {
       "height": 295,
       "width": 710
      }
     },
     "output_type": "display_data"
    }
   ],
   "source": [
    "df2 = df_values.groupby(['anio', 'category'])['Val_num'].count().unstack('category').fillna(0)\n",
    "df2.plot(kind='bar', stacked=True);"
   ]
  },
  {
   "cell_type": "markdown",
   "metadata": {},
   "source": [
    "## Parte II"
   ]
  },
  {
   "cell_type": "markdown",
   "metadata": {
    "ExecuteTime": {
     "end_time": "2020-03-16T21:16:54.537788Z",
     "start_time": "2020-03-16T21:16:54.530791Z"
    }
   },
   "source": [
    "* Ocupando **únicamente** pandas, numpy; matplotlib; seaborn, con la información obtenida en la parte 1 (pandas DataFrame) modelar con Naïve Bayes si un documento dado pertence a la clase `mantiene`, `sube`, `baja`\n",
    "\n",
    "**Pasos:**\n",
    "1. Descargar PDFs\n",
    "2. Limpiar los datos\n",
    "3. Eliminar de todos los archivo las palabras que contengan `mantiene`, `sube`, `baja`.\n",
    "4. Parte los documentos entre un set de entrenamiento (0.8) y uno de prueba (0.2)\n",
    "5. Entrena el modelo con los documentos de entrenamiento y valida el resultado con una matriz de confusión usado la base de prueba"
   ]
  },
  {
   "cell_type": "code",
   "execution_count": 80,
   "metadata": {
    "ExecuteTime": {
     "end_time": "2020-03-16T23:17:04.748064Z",
     "start_time": "2020-03-16T23:17:04.743898Z"
    }
   },
   "outputs": [],
   "source": [
    "import seaborn as sns\n",
    "import pandas as pd\n",
    "import matplotlib.pyplot as plt\n",
    "import numpy as np\n",
    "import PyPDF2 \n",
    "import requests\n",
    "import os\n",
    "\n",
    "from pathlib import Path\n",
    "from nltk.tokenize import RegexpTokenizer\n",
    "from nltk.corpus import stopwords"
   ]
  },
  {
   "cell_type": "code",
   "execution_count": 29,
   "metadata": {
    "ExecuteTime": {
     "end_time": "2020-03-16T23:16:47.531334Z",
     "start_time": "2020-03-16T23:16:40.695184Z"
    }
   },
   "outputs": [
    {
     "name": "stdout",
     "output_type": "stream",
     "text": [
      "La URL https://www.banxico.org.mx/publicaciones-y-prensa/anuncios-de-las-decisiones-de-politica-monetaria/{21A25F9E-4186-7A2E-3EEB-8D279E8D716F}.pdf\n",
      "La fecha 2008-02-15 00:00:00\n",
      "La URL https://www.banxico.org.mx/publicaciones-y-prensa/anuncios-de-las-decisiones-de-politica-monetaria/{1AFBBDF2-F9BD-7972-B7EC-A106692521BA}.pdf\n",
      "La fecha 2008-03-14 00:00:00\n",
      "La URL https://www.banxico.org.mx/publicaciones-y-prensa/anuncios-de-las-decisiones-de-politica-monetaria/{4E43A56F-E21C-DA8D-E793-1FB347044B17}.pdf\n",
      "La fecha 2008-04-18 00:00:00\n",
      "La URL https://www.banxico.org.mx/publicaciones-y-prensa/anuncios-de-las-decisiones-de-politica-monetaria/{E4D0C362-251B-316B-68C8-C4893FD53FB3}.pdf\n",
      "La fecha 2008-05-16 00:00:00\n",
      "La URL https://www.banxico.org.mx/publicaciones-y-prensa/anuncios-de-las-decisiones-de-politica-monetaria/{64384358-74A6-A9C2-425F-97C245F5BC2F}.pdf\n",
      "La fecha 2008-06-20 00:00:00\n",
      "La URL https://www.banxico.org.mx/publicaciones-y-prensa/anuncios-de-las-decisiones-de-politica-monetaria/{ACFA5F98-5C19-0495-B708-59BB641FA0DC}.pdf\n",
      "La fecha 2008-07-18 00:00:00\n",
      "La URL https://www.banxico.org.mx/publicaciones-y-prensa/anuncios-de-las-decisiones-de-politica-monetaria/{E8B861B4-C2F2-D81C-ED0E-E49221239CE6}.pdf\n",
      "La fecha 2008-08-15 00:00:00\n",
      "La URL https://www.banxico.org.mx/publicaciones-y-prensa/anuncios-de-las-decisiones-de-politica-monetaria/{A90F3265-B6F7-6A96-394A-02F5B9F7B51F}.pdf\n",
      "La fecha 2008-09-19 00:00:00\n",
      "La URL https://www.banxico.org.mx/publicaciones-y-prensa/anuncios-de-las-decisiones-de-politica-monetaria/{CBB9D6B6-BF78-2774-184A-A35F5A1BC5D7}.pdf\n",
      "La fecha 2008-10-17 00:00:00\n",
      "La URL https://www.banxico.org.mx/publicaciones-y-prensa/anuncios-de-las-decisiones-de-politica-monetaria/{F30EAF7B-9DBA-7D78-0DA0-BFAA53A55A9C}.pdf\n",
      "La fecha 2008-11-28 00:00:00\n",
      "La URL https://www.banxico.org.mx/publicaciones-y-prensa/anuncios-de-las-decisiones-de-politica-monetaria/{079B1F73-037A-7608-26DE-65FAC0AA66A2}.pdf\n",
      "La fecha 2009-01-16 00:00:00\n",
      "La URL https://www.banxico.org.mx/publicaciones-y-prensa/anuncios-de-las-decisiones-de-politica-monetaria/{70C0CD1E-4ECF-59BA-DA8A-AD6ACA36F2A4}.pdf\n",
      "La fecha 2009-02-20 00:00:00\n",
      "La URL https://www.banxico.org.mx/publicaciones-y-prensa/anuncios-de-las-decisiones-de-politica-monetaria/{B25B41A7-9CAB-3774-F195-875BB65458D9}.pdf\n",
      "La fecha 2009-03-20 00:00:00\n",
      "La URL https://www.banxico.org.mx/publicaciones-y-prensa/anuncios-de-las-decisiones-de-politica-monetaria/{92F70450-2B0B-6A25-C828-4CD84E66B766}.pdf\n",
      "La fecha 2009-04-17 00:00:00\n",
      "La URL https://www.banxico.org.mx/publicaciones-y-prensa/anuncios-de-las-decisiones-de-politica-monetaria/{799A6928-D4C4-D78D-8D7A-BD3D80573BFA}.pdf\n",
      "La fecha 2009-05-15 00:00:00\n",
      "La URL https://www.banxico.org.mx/publicaciones-y-prensa/anuncios-de-las-decisiones-de-politica-monetaria/{3FB45FBD-3A37-9AF4-54E1-51E54898DDE4}.pdf\n",
      "La fecha 2009-06-19 00:00:00\n",
      "La URL https://www.banxico.org.mx/publicaciones-y-prensa/anuncios-de-las-decisiones-de-politica-monetaria/{F85B4FDD-16D9-2952-5376-56AF0051155C}.pdf\n",
      "La fecha 2009-07-17 00:00:00\n",
      "La URL https://www.banxico.org.mx/publicaciones-y-prensa/anuncios-de-las-decisiones-de-politica-monetaria/{D6991B75-A686-3A8D-EE4F-115D7A6714C2}.pdf\n",
      "La fecha 2009-08-21 00:00:00\n",
      "La URL https://www.banxico.org.mx/publicaciones-y-prensa/anuncios-de-las-decisiones-de-politica-monetaria/{31E56B4B-90E0-CE02-B8C9-898BFC6E0F11}.pdf\n",
      "La fecha 2009-09-18 00:00:00\n",
      "La URL https://www.banxico.org.mx/publicaciones-y-prensa/anuncios-de-las-decisiones-de-politica-monetaria/{9E24E85A-103F-A4D9-B0E3-F3D35B5D151B}.pdf\n",
      "La fecha 2009-10-16 00:00:00\n",
      "La URL https://www.banxico.org.mx/publicaciones-y-prensa/anuncios-de-las-decisiones-de-politica-monetaria/{87359AB0-44E9-A128-BC58-B83BAA32CE60}.pdf\n",
      "La fecha 2009-11-27 00:00:00\n",
      "La URL https://www.banxico.org.mx/publicaciones-y-prensa/anuncios-de-las-decisiones-de-politica-monetaria/{253738A7-B4D5-E6EC-21A4-426902907385}.pdf\n",
      "La fecha 2010-01-15 00:00:00\n",
      "La URL https://www.banxico.org.mx/publicaciones-y-prensa/anuncios-de-las-decisiones-de-politica-monetaria/{4333CB58-571D-8587-73FC-6B1FE98F845B}.pdf\n",
      "La fecha 2010-02-19 00:00:00\n",
      "La URL https://www.banxico.org.mx/publicaciones-y-prensa/anuncios-de-las-decisiones-de-politica-monetaria/{18F5115A-9EBE-3E47-DB74-C042BD6BC2E5}.pdf\n",
      "La fecha 2010-03-19 00:00:00\n",
      "La URL https://www.banxico.org.mx/publicaciones-y-prensa/anuncios-de-las-decisiones-de-politica-monetaria/{3A68189A-904F-C582-A6D1-373BBCABE67F}.pdf\n",
      "La fecha 2010-04-16 00:00:00\n",
      "La URL https://www.banxico.org.mx/publicaciones-y-prensa/anuncios-de-las-decisiones-de-politica-monetaria/{A35C0AF8-0A50-7603-B142-77B008A7E5DD}.pdf\n",
      "La fecha 2010-05-21 00:00:00\n",
      "La URL https://www.banxico.org.mx/publicaciones-y-prensa/anuncios-de-las-decisiones-de-politica-monetaria/{CC8E689F-2C40-6FB0-3275-CADDEF805465}.pdf\n",
      "La fecha 2010-06-18 00:00:00\n",
      "La URL https://www.banxico.org.mx/publicaciones-y-prensa/anuncios-de-las-decisiones-de-politica-monetaria/{37DAB34C-86E9-1B9D-BE18-CC7CE14F3E04}.pdf\n",
      "La fecha 2010-07-16 00:00:00\n",
      "La URL https://www.banxico.org.mx/publicaciones-y-prensa/anuncios-de-las-decisiones-de-politica-monetaria/{C812D4DB-7072-409A-957C-C741E170D8FB}.pdf\n",
      "La fecha 2010-08-20 00:00:00\n",
      "La URL https://www.banxico.org.mx/publicaciones-y-prensa/anuncios-de-las-decisiones-de-politica-monetaria/{8E115CC9-4757-C410-2F6D-7D389EA7A294}.pdf\n",
      "La fecha 2010-09-24 00:00:00\n",
      "La URL https://www.banxico.org.mx/publicaciones-y-prensa/anuncios-de-las-decisiones-de-politica-monetaria/{0E545073-F280-A3BF-DC09-0F3E23366C5A}.pdf\n",
      "La fecha 2010-10-15 00:00:00\n",
      "La URL https://www.banxico.org.mx/publicaciones-y-prensa/anuncios-de-las-decisiones-de-politica-monetaria/{45345368-5002-807A-2E56-DA3F2289BE2A}.pdf\n",
      "La fecha 2010-11-26 00:00:00\n",
      "La URL https://www.banxico.org.mx/publicaciones-y-prensa/anuncios-de-las-decisiones-de-politica-monetaria/{5282873A-C410-36FC-465E-46EF50657871}.pdf\n",
      "La fecha 2011-01-21 00:00:00\n",
      "La URL https://www.banxico.org.mx/publicaciones-y-prensa/anuncios-de-las-decisiones-de-politica-monetaria/{53C9AEAC-563A-4E3B-E6A8-27DC7C155948}.pdf\n",
      "La fecha 2011-02-12 00:00:00\n",
      "La URL https://www.banxico.org.mx/publicaciones-y-prensa/anuncios-de-las-decisiones-de-politica-monetaria/{D89145E8-6232-FEFB-D839-097CF1694923}.pdf\n",
      "La fecha 2011-04-03 00:00:00\n",
      "La URL https://www.banxico.org.mx/publicaciones-y-prensa/anuncios-de-las-decisiones-de-politica-monetaria/{B1D43FD3-F87D-D923-1E08-231774259D6E}.pdf\n",
      "La fecha 2011-04-15 00:00:00\n",
      "La URL https://www.banxico.org.mx/publicaciones-y-prensa/anuncios-de-las-decisiones-de-politica-monetaria/{3EAC8175-5AC9-676F-524D-22057D09C9AF}.pdf\n",
      "La fecha 2011-05-27 00:00:00\n",
      "La URL https://www.banxico.org.mx/publicaciones-y-prensa/anuncios-de-las-decisiones-de-politica-monetaria/{C53A54E5-EFE6-2798-B57A-ADD52BA4414E}.pdf\n",
      "La fecha 2011-08-07 00:00:00\n",
      "La URL https://www.banxico.org.mx/publicaciones-y-prensa/anuncios-de-las-decisiones-de-politica-monetaria/{07D9C69A-03A0-5188-24D0-03970EA6F181}.pdf\n",
      "La fecha 2011-08-26 00:00:00\n",
      "La URL https://www.banxico.org.mx/publicaciones-y-prensa/anuncios-de-las-decisiones-de-politica-monetaria/{4358F902-0DE6-260D-1E38-BCFEE59B570E}.pdf\n",
      "La fecha 2011-10-14 00:00:00\n",
      "La URL https://www.banxico.org.mx/publicaciones-y-prensa/anuncios-de-las-decisiones-de-politica-monetaria/{7D6208ED-793D-993A-96B6-465971CF2373}.pdf\n",
      "La fecha 2012-01-20 00:00:00\n",
      "La URL https://www.banxico.org.mx/publicaciones-y-prensa/anuncios-de-las-decisiones-de-politica-monetaria/{044CE0CA-6924-4CCD-F33A-DC240EA6A6F8}.pdf\n",
      "La fecha 2012-03-16 00:00:00\n",
      "La URL https://www.banxico.org.mx/publicaciones-y-prensa/anuncios-de-las-decisiones-de-politica-monetaria/{9A5E9E34-2639-BCA3-DEBB-B5E736C57163}.pdf\n",
      "La fecha 2012-04-27 00:00:00\n",
      "La URL https://www.banxico.org.mx/publicaciones-y-prensa/anuncios-de-las-decisiones-de-politica-monetaria/{0D778DF5-9AE3-AE0A-7996-32E16E3BF86E}.pdf\n",
      "La fecha 2012-07-09 00:00:00\n",
      "La URL https://www.banxico.org.mx/publicaciones-y-prensa/anuncios-de-las-decisiones-de-politica-monetaria/{80701584-AF90-FF4D-9BF1-7EF0EEF975A8}.pdf\n",
      "La fecha 2012-07-20 00:00:00\n",
      "La URL https://www.banxico.org.mx/publicaciones-y-prensa/anuncios-de-las-decisiones-de-politica-monetaria/{FFA12516-877A-7437-28FC-C81D75A9CE7A}.pdf\n",
      "La fecha 2012-08-06 00:00:00\n",
      "La URL https://www.banxico.org.mx/publicaciones-y-prensa/anuncios-de-las-decisiones-de-politica-monetaria/{82443CBD-7358-96E7-3FA9-45427DD7B8B4}.pdf\n",
      "La fecha 2012-10-26 00:00:00\n"
     ]
    },
    {
     "name": "stdout",
     "output_type": "stream",
     "text": [
      "La URL https://www.banxico.org.mx/publicaciones-y-prensa/anuncios-de-las-decisiones-de-politica-monetaria/{A15D84B0-1544-FF11-3DA1-3C2353BF89E6}.pdf\n",
      "La fecha 2012-11-30 00:00:00\n",
      "La URL https://www.banxico.org.mx/publicaciones-y-prensa/anuncios-de-las-decisiones-de-politica-monetaria/{9FBF12AA-D7D8-E0B2-CCC4-5E6FB38FEBCE}.pdf\n",
      "La fecha 2013-01-18 00:00:00\n",
      "La URL https://www.banxico.org.mx/publicaciones-y-prensa/anuncios-de-las-decisiones-de-politica-monetaria/{4C77F6F1-04BD-3D32-DE6B-DB6C32D93667}.pdf\n",
      "La fecha 2013-04-26 00:00:00\n",
      "La URL https://www.banxico.org.mx/publicaciones-y-prensa/anuncios-de-las-decisiones-de-politica-monetaria/{27B95C51-9084-A3B9-EBE5-069CF8EC6AD4}.pdf\n",
      "La fecha 2013-06-09 00:00:00\n",
      "La URL https://www.banxico.org.mx/publicaciones-y-prensa/anuncios-de-las-decisiones-de-politica-monetaria/{4E15E62F-8409-1715-2B50-29107081A593}.pdf\n",
      "La fecha 2013-06-12 00:00:00\n",
      "La URL https://www.banxico.org.mx/publicaciones-y-prensa/anuncios-de-las-decisiones-de-politica-monetaria/{D05752AF-DE1F-1AA6-708D-EB0613FD8273}.pdf\n",
      "La fecha 2013-07-06 00:00:00\n",
      "La URL https://www.banxico.org.mx/publicaciones-y-prensa/anuncios-de-las-decisiones-de-politica-monetaria/{B1BB0083-81E6-6A46-917A-A4F34773D8E1}.pdf\n",
      "La fecha 2013-08-03 00:00:00\n",
      "La URL https://www.banxico.org.mx/publicaciones-y-prensa/anuncios-de-las-decisiones-de-politica-monetaria/{F658A41A-1266-7EE9-F392-E598B9518768}.pdf\n",
      "La fecha 2013-10-25 00:00:00\n",
      "La URL https://www.banxico.org.mx/publicaciones-y-prensa/anuncios-de-las-decisiones-de-politica-monetaria/{C50924ED-D6B5-E713-7FC4-2BB50704867E}.pdf\n",
      "La fecha 2013-12-07 00:00:00\n",
      "La URL https://www.banxico.org.mx/publicaciones-y-prensa/anuncios-de-las-decisiones-de-politica-monetaria/{56178024-CC63-0115-AF52-13EC9922A5BD}.pdf\n",
      "La fecha 2014-01-31 00:00:00\n",
      "La URL https://www.banxico.org.mx/publicaciones-y-prensa/anuncios-de-las-decisiones-de-politica-monetaria/{309E74CE-3529-6B58-54B6-09A3AD31140C}.pdf\n",
      "La fecha 2014-03-21 00:00:00\n",
      "La URL https://www.banxico.org.mx/publicaciones-y-prensa/anuncios-de-las-decisiones-de-politica-monetaria/{578E4D04-DB2C-2627-161B-5CD93B4D3961}.pdf\n",
      "La fecha 2014-04-25 00:00:00\n",
      "La URL https://www.banxico.org.mx/publicaciones-y-prensa/anuncios-de-las-decisiones-de-politica-monetaria/{9EB24CA1-39E6-A525-51BA-3EC753FF4B95}.pdf\n",
      "La fecha 2014-05-09 00:00:00\n",
      "La URL https://www.banxico.org.mx/publicaciones-y-prensa/anuncios-de-las-decisiones-de-politica-monetaria/{55344987-3355-2A83-FE8A-C1FE9C71F5A6}.pdf\n",
      "La fecha 2014-05-12 00:00:00\n",
      "La URL https://www.banxico.org.mx/publicaciones-y-prensa/anuncios-de-las-decisiones-de-politica-monetaria/{72EDC731-0F29-9D66-1291-B8C4751F15CE}.pdf\n",
      "La fecha 2014-06-06 00:00:00\n",
      "La URL https://www.banxico.org.mx/publicaciones-y-prensa/anuncios-de-las-decisiones-de-politica-monetaria/{8745E5FE-AE35-A71C-CE15-FE638F7BF96E}.pdf\n",
      "La fecha 2014-10-31 00:00:00\n",
      "La URL https://www.banxico.org.mx/publicaciones-y-prensa/anuncios-de-las-decisiones-de-politica-monetaria/{2AB5FCA9-2C0D-EE65-4670-816E23628FC6}.pdf\n",
      "La fecha 2014-11-07 00:00:00\n",
      "La URL https://www.banxico.org.mx/publicaciones-y-prensa/anuncios-de-las-decisiones-de-politica-monetaria/{C9753BF8-12B8-F7AC-F518-BB45EE2BC958}.pdf\n",
      "La fecha 2015-01-29 00:00:00\n",
      "La URL https://www.banxico.org.mx/publicaciones-y-prensa/anuncios-de-las-decisiones-de-politica-monetaria/{3FD893CC-8D2F-C4CF-BB5D-C4AF49BD9E15}.pdf\n",
      "La fecha 2015-03-26 00:00:00\n",
      "La URL https://www.banxico.org.mx/publicaciones-y-prensa/anuncios-de-las-decisiones-de-politica-monetaria/{3DD16F35-8148-B447-2E58-AC1DAD0E425E}.pdf\n",
      "La fecha 2015-04-06 00:00:00\n",
      "La URL https://www.banxico.org.mx/publicaciones-y-prensa/anuncios-de-las-decisiones-de-politica-monetaria/{449F6CF3-8736-2B64-3F30-457140D7D723}.pdf\n",
      "La fecha 2015-04-30 00:00:00\n",
      "La URL https://www.banxico.org.mx/publicaciones-y-prensa/anuncios-de-las-decisiones-de-politica-monetaria/{04239536-BDEF-88F9-A7F8-88F35B14BA39}.pdf\n",
      "La fecha 2015-07-30 00:00:00\n",
      "La URL https://www.banxico.org.mx/publicaciones-y-prensa/anuncios-de-las-decisiones-de-politica-monetaria/{677D0E00-3FE0-87DC-430C-A500354B8F17}.pdf\n",
      "La fecha 2015-09-21 00:00:00\n",
      "La URL https://www.banxico.org.mx/publicaciones-y-prensa/anuncios-de-las-decisiones-de-politica-monetaria/{5240F1DC-6F2D-2415-6B08-29AC65481A3D}.pdf\n",
      "La fecha 2015-10-29 00:00:00\n",
      "La URL https://www.banxico.org.mx/publicaciones-y-prensa/anuncios-de-las-decisiones-de-politica-monetaria/{BF868E41-029A-DD5E-9DA8-2A3A64FD6131}.pdf\n",
      "La fecha 2015-12-17 00:00:00\n",
      "La URL https://www.banxico.org.mx/publicaciones-y-prensa/anuncios-de-las-decisiones-de-politica-monetaria/{394FBB23-9099-AAB2-6B9B-2FDBAEEE5710}.pdf\n",
      "La fecha 2016-02-17 00:00:00\n",
      "La URL https://www.banxico.org.mx/publicaciones-y-prensa/anuncios-de-las-decisiones-de-politica-monetaria/{67F67132-2FCA-0080-84B1-5B87CD5F8023}.pdf\n",
      "La fecha 2016-03-18 00:00:00\n",
      "La URL https://www.banxico.org.mx/publicaciones-y-prensa/anuncios-de-las-decisiones-de-politica-monetaria/{C3181CEA-1120-E7B0-B4A0-1CAA06B26628}.pdf\n",
      "La fecha 2016-04-02 00:00:00\n",
      "La URL https://www.banxico.org.mx/publicaciones-y-prensa/anuncios-de-las-decisiones-de-politica-monetaria/{BB0262C9-23E6-8387-E45F-5E2CC358A7AA}.pdf\n",
      "La fecha 2016-05-05 00:00:00\n",
      "La URL https://www.banxico.org.mx/publicaciones-y-prensa/anuncios-de-las-decisiones-de-politica-monetaria/{23BBC139-AA05-0827-A061-0C8AB90535FA}.pdf\n",
      "La fecha 2016-06-30 00:00:00\n",
      "La URL https://www.banxico.org.mx/publicaciones-y-prensa/anuncios-de-las-decisiones-de-politica-monetaria/{A25E397D-81C8-795B-96E8-CADC85B72B9A}.pdf\n",
      "La fecha 2016-09-29 00:00:00\n",
      "La URL https://www.banxico.org.mx/publicaciones-y-prensa/anuncios-de-las-decisiones-de-politica-monetaria/{2631A849-5E61-2FAE-30CF-50857666686B}.pdf\n",
      "La fecha 2016-11-08 00:00:00\n",
      "La URL https://www.banxico.org.mx/publicaciones-y-prensa/anuncios-de-las-decisiones-de-politica-monetaria/{81F6BD73-43E9-A2EC-BDF5-06B63696F727}.pdf\n",
      "La fecha 2016-11-17 00:00:00\n",
      "La URL https://www.banxico.org.mx/publicaciones-y-prensa/anuncios-de-las-decisiones-de-politica-monetaria/{36A53A23-EC79-37FF-0253-33BC526E6917}.pdf\n",
      "La fecha 2016-12-15 00:00:00\n",
      "La URL https://www.banxico.org.mx/publicaciones-y-prensa/anuncios-de-las-decisiones-de-politica-monetaria/{074D9E1A-B709-2638-190B-0D1D7B43CFA1}.pdf\n",
      "La fecha 2017-03-30 00:00:00\n",
      "La URL https://www.banxico.org.mx/publicaciones-y-prensa/anuncios-de-las-decisiones-de-politica-monetaria/{725F68CC-36E7-2DA7-40DC-40AEFAAA15DB}.pdf\n",
      "La fecha 2017-05-18 00:00:00\n",
      "La URL https://www.banxico.org.mx/publicaciones-y-prensa/anuncios-de-las-decisiones-de-politica-monetaria/{67F688BC-F0F6-45B3-D486-5A9CE5C90BB7}.pdf\n",
      "La fecha 2017-06-22 00:00:00\n",
      "La URL https://www.banxico.org.mx/publicaciones-y-prensa/anuncios-de-las-decisiones-de-politica-monetaria/{CDC07FB1-4E59-81F5-727A-FEAD4F60E286}.pdf\n",
      "La fecha 2017-09-02 00:00:00\n",
      "La URL https://www.banxico.org.mx/publicaciones-y-prensa/anuncios-de-las-decisiones-de-politica-monetaria/{A7CE1CC8-AA68-16D3-A354-6C649CB5B573}.pdf\n",
      "La fecha 2017-09-11 00:00:00\n",
      "La URL https://www.banxico.org.mx/publicaciones-y-prensa/anuncios-de-las-decisiones-de-politica-monetaria/{C10DB730-CC69-994D-CECE-7D3AB1DA4B25}.pdf\n",
      "La fecha 2017-09-28 00:00:00\n",
      "La URL https://www.banxico.org.mx/publicaciones-y-prensa/anuncios-de-las-decisiones-de-politica-monetaria/{851EB1B0-83F2-B09B-21EA-ECC9B27AB38E}.pdf\n",
      "La fecha 2017-10-08 00:00:00\n",
      "La URL https://www.banxico.org.mx/publicaciones-y-prensa/anuncios-de-las-decisiones-de-politica-monetaria/{D12AE26E-C7E4-98C6-774A-370BE65BB85A}.pdf\n",
      "La fecha 2017-12-14 00:00:00\n",
      "La URL https://www.banxico.org.mx/publicaciones-y-prensa/anuncios-de-las-decisiones-de-politica-monetaria/{B0E8D2FC-D7D2-F62C-E385-936DB840A68A}.pdf\n",
      "La fecha 2018-02-08 00:00:00\n",
      "La URL https://www.banxico.org.mx/publicaciones-y-prensa/anuncios-de-las-decisiones-de-politica-monetaria/{4A8C90EF-5034-468A-D5A0-92CA39FCBD21}.pdf\n",
      "La fecha 2018-04-10 00:00:00\n",
      "La URL https://www.banxico.org.mx/publicaciones-y-prensa/anuncios-de-las-decisiones-de-politica-monetaria/{FA7D3584-6233-EB61-D6D0-420712FB01C2}.pdf\n",
      "La fecha 2018-05-17 00:00:00\n",
      "La URL https://www.banxico.org.mx/publicaciones-y-prensa/anuncios-de-las-decisiones-de-politica-monetaria/{32F5F0C4-9EE7-8BB9-3AE0-291882583F3B}.pdf\n",
      "La fecha 2018-06-21 00:00:00\n",
      "La URL https://www.banxico.org.mx/publicaciones-y-prensa/anuncios-de-las-decisiones-de-politica-monetaria/{B8A2EF24-EFB6-7412-2AC7-2A082D849603}.pdf\n",
      "La fecha 2018-08-02 00:00:00\n"
     ]
    },
    {
     "name": "stdout",
     "output_type": "stream",
     "text": [
      "La URL https://www.banxico.org.mx/publicaciones-y-prensa/anuncios-de-las-decisiones-de-politica-monetaria/{759F9C79-B40F-CD69-E10F-C56C3265923A}.pdf\n",
      "La fecha 2018-11-15 00:00:00\n",
      "La URL https://www.banxico.org.mx/publicaciones-y-prensa/anuncios-de-las-decisiones-de-politica-monetaria/{A020627B-C6CC-C74D-02C8-42D99B9B6B29}.pdf\n",
      "La fecha 2018-12-04 00:00:00\n",
      "La URL https://www.banxico.org.mx/publicaciones-y-prensa/anuncios-de-las-decisiones-de-politica-monetaria/{0CB97688-9500-D1A2-A000-C60DAF3E853F}.pdf\n",
      "La fecha 2018-12-20 00:00:00\n",
      "La URL https://www.banxico.org.mx/publicaciones-y-prensa/anuncios-de-las-decisiones-de-politica-monetaria/{0F4AB746-781C-0D0A-5E3F-D5D28B14040C}.pdf\n",
      "La fecha 2019-03-28 00:00:00\n",
      "La URL https://www.banxico.org.mx/publicaciones-y-prensa/anuncios-de-las-decisiones-de-politica-monetaria/{F4FA44AB-E4ED-59FA-100A-7791AA0085CD}.pdf\n",
      "La fecha 2019-05-16 00:00:00\n",
      "La URL https://www.banxico.org.mx/publicaciones-y-prensa/anuncios-de-las-decisiones-de-politica-monetaria/{BBE502FD-07B1-0B6F-80BD-8F9372DB224D}.pdf\n",
      "La fecha 2019-06-27 00:00:00\n",
      "La URL https://www.banxico.org.mx/publicaciones-y-prensa/anuncios-de-las-decisiones-de-politica-monetaria/{066D3F9D-6038-F9FD-88C6-DFE4977DF0D3}.pdf\n",
      "La fecha 2019-07-02 00:00:00\n",
      "La URL https://www.banxico.org.mx/publicaciones-y-prensa/anuncios-de-las-decisiones-de-politica-monetaria/{B661860D-753B-D805-90A3-0451F6011307}.pdf\n",
      "La fecha 2019-08-15 00:00:00\n",
      "La URL https://www.banxico.org.mx/publicaciones-y-prensa/anuncios-de-las-decisiones-de-politica-monetaria/{1170CD25-C24D-E99C-F3D3-6B86D1822E65}.pdf\n",
      "La fecha 2019-09-26 00:00:00\n",
      "La URL https://www.banxico.org.mx/publicaciones-y-prensa/anuncios-de-las-decisiones-de-politica-monetaria/{0DD5A3F4-0B57-8F6A-6F98-1F5048852A35}.pdf\n",
      "La fecha 2019-11-14 00:00:00\n",
      "La URL https://www.banxico.org.mx/publicaciones-y-prensa/anuncios-de-las-decisiones-de-politica-monetaria/{D5328504-B958-4BE0-44A3-9363FCAC99D3}.pdf\n",
      "La fecha 2019-12-19 00:00:00\n",
      "La URL https://www.banxico.org.mx/publicaciones-y-prensa/anuncios-de-las-decisiones-de-politica-monetaria/{F2570B49-2124-CAD3-09A5-380DC3E4CD0C}.pdf\n",
      "La fecha 2020-02-13 00:00:00\n"
     ]
    }
   ],
   "source": [
    "for i in range(len(df_values)):\n",
    "    print(\"La URL\", list(df_values.url[i])[0])\n",
    "    print(\"La fecha\", df_values.index[i])\n",
    "      \n",
    "    filename = Path('descargas\\BANXICO_estima_' + str(df_values.index[i].year) + '_' + str(df_values.index[i].month) + '_' + str(df_values.index[i].day) + '.pdf')\n",
    "    \n",
    "    url = list(df_values.url[i])[0]\n",
    "    response = requests.get(url)\n",
    "    filename.write_bytes(response.content)"
   ]
  },
  {
   "cell_type": "code",
   "execution_count": 81,
   "metadata": {
    "ExecuteTime": {
     "end_time": "2020-03-16T23:18:02.114618Z",
     "start_time": "2020-03-16T23:18:02.108613Z"
    }
   },
   "outputs": [],
   "source": [
    "def lee_pdf(n_index):\n",
    "    pdfFileObj = open('descargas\\BANXICO_estima_' + str(df_values.index[n_index].year) + '_' + str(df_values.index[n_index].month) + '_' + str(df_values.index[n_index].day) + '.pdf', 'rb')\n",
    "    pdfReader = PyPDF2.PdfFileReader(pdfFileObj)\n",
    "    pageObj = pdfReader.getPage(0) \n",
    "    corpus = pageObj.extractText()\n",
    "    corpus = corpus.replace('\\n','')\n",
    "    corpus = unidecode(corpus)\n",
    "    work_tokenizer = RegexpTokenizer(\"[a-z]+\")\n",
    "    tokens = work_tokenizer.tokenize(corpus.lower())\n",
    "    lista_stopwords = stopwords.words(\"spanish\")\n",
    "    lista_stopwords.append('mantener')\n",
    "    lista_stopwords.append('incrementar')\n",
    "    lista_stopwords.append('reducir')\n",
    "    V1 = []\n",
    "    for palabra in tokens:\n",
    "        if palabra not in lista_stopwords:\n",
    "            V1.append(palabra)\n",
    "            \n",
    "    return V1"
   ]
  },
  {
   "cell_type": "code",
   "execution_count": 33,
   "metadata": {
    "ExecuteTime": {
     "end_time": "2020-03-16T23:18:02.495654Z",
     "start_time": "2020-03-16T23:18:02.467820Z"
    }
   },
   "outputs": [
    {
     "data": {
      "text/plain": [
       "['abril',\n",
       " 'comunicado',\n",
       " 'prensa',\n",
       " 'anuncio',\n",
       " 'politica',\n",
       " 'monetaria',\n",
       " 'junta',\n",
       " 'gobierno',\n",
       " 'banco',\n",
       " 'mexico',\n",
       " 'decidido',\n",
       " 'ciento',\n",
       " 'objetivo',\n",
       " 'tasa',\n",
       " 'interes',\n",
       " 'interbancaria',\n",
       " 'dia',\n",
       " 'economia',\n",
       " 'mundial',\n",
       " 'continua',\n",
       " 'debilitandose',\n",
       " 'consenso',\n",
       " 'analistas',\n",
       " 'consiste',\n",
       " 'probable',\n",
       " 'economia',\n",
       " 'unidos',\n",
       " 'recesion',\n",
       " 'intensidad',\n",
       " 'duracion',\n",
       " 'impacto',\n",
       " 'economias',\n",
       " 'dependera',\n",
       " 'efectos',\n",
       " 'crisis',\n",
       " 'financiera',\n",
       " 'proceso',\n",
       " 'desendeudamiento',\n",
       " 'diversos',\n",
       " 'sectores',\n",
       " 'economia',\n",
       " 'real',\n",
       " 'asimismo',\n",
       " 'vislumbra',\n",
       " 'periodo',\n",
       " 'ajuste',\n",
       " 'prolongado',\n",
       " 'pais',\n",
       " 'hogares',\n",
       " 'reconstituyen',\n",
       " 'ahorros',\n",
       " 'debido',\n",
       " 'perdida',\n",
       " 'riqueza',\n",
       " 'derivada',\n",
       " 'caida',\n",
       " 'precios',\n",
       " 'viviendas',\n",
       " 'banco',\n",
       " 'reserva',\n",
       " 'federal',\n",
       " 'continuado',\n",
       " 'reduciendo',\n",
       " 'manera',\n",
       " 'significativa',\n",
       " 'tasa',\n",
       " 'interes',\n",
       " 'referencia',\n",
       " 'tomado',\n",
       " 'diversas',\n",
       " 'medidas',\n",
       " 'proveer',\n",
       " 'liquidez',\n",
       " 'mercados',\n",
       " 'fin',\n",
       " 'mitigar',\n",
       " 'endurecimiento',\n",
       " 'condiciones',\n",
       " 'crediticias',\n",
       " 'mismo',\n",
       " 'tiempo',\n",
       " 'continuan',\n",
       " 'intensificandose',\n",
       " 'presiones',\n",
       " 'inflacionarias',\n",
       " 'mundo',\n",
       " 'debido',\n",
       " 'fuertes',\n",
       " 'incrementos',\n",
       " 'precios',\n",
       " 'alimentos',\n",
       " 'energeticos',\n",
       " 'escenario',\n",
       " 'implica',\n",
       " 'decisiones',\n",
       " 'particularmente',\n",
       " 'dificiles',\n",
       " 'mayoria',\n",
       " 'bancos',\n",
       " 'centrales',\n",
       " 'mexico',\n",
       " 'actividad',\n",
       " 'economica',\n",
       " 'desacelero',\n",
       " 'ultimo',\n",
       " 'trimestre',\n",
       " 'embargo',\n",
       " 'informacion',\n",
       " 'preliminar',\n",
       " 'correspondiente',\n",
       " 'primer',\n",
       " 'trimestre',\n",
       " 'sugiere',\n",
       " 'actividad',\n",
       " 'economica',\n",
       " 'fortalecido',\n",
       " 'respecto',\n",
       " 'anterior',\n",
       " 'obstante',\n",
       " 'resto',\n",
       " 'ano',\n",
       " 'riesgos',\n",
       " 'baja',\n",
       " 'relacion',\n",
       " 'crecimiento',\n",
       " 'claramente',\n",
       " 'incrementado',\n",
       " 'trayectoria',\n",
       " 'reciente',\n",
       " 'inflacion',\n",
       " 'general',\n",
       " 'subyacente',\n",
       " 'ubicado',\n",
       " 'dentro',\n",
       " 'rango',\n",
       " 'previsto',\n",
       " 'banco',\n",
       " 'mexico',\n",
       " 'ano',\n",
       " 'pasado',\n",
       " 'embargo',\n",
       " 'primeros',\n",
       " 'meses',\n",
       " 'presente',\n",
       " 'ano',\n",
       " 'incrementos',\n",
       " 'observados',\n",
       " 'precios',\n",
       " 'mayoria',\n",
       " 'alimentos',\n",
       " 'materias',\n",
       " 'primas',\n",
       " 'sido',\n",
       " 'considerablemente',\n",
       " 'mayores',\n",
       " 'anticipados',\n",
       " 'asimismo',\n",
       " 'impactos',\n",
       " 'reforma',\n",
       " 'tributaria',\n",
       " 'precios',\n",
       " 'comenzaron',\n",
       " 'manifestarse',\n",
       " 'ello',\n",
       " 'esperan',\n",
       " 'niveles',\n",
       " 'inflacion',\n",
       " 'superiores',\n",
       " 'proximos',\n",
       " 'meses',\n",
       " 'consecuencia',\n",
       " 'banco',\n",
       " 'revisara',\n",
       " 'proyecciones',\n",
       " 'proximo',\n",
       " 'informe',\n",
       " 'inflacion',\n",
       " 'oportuno',\n",
       " 'reiterar',\n",
       " 'parte',\n",
       " 'proceso',\n",
       " 'formacion',\n",
       " 'precios',\n",
       " 'salarios',\n",
       " 'todavia',\n",
       " 'presenta',\n",
       " 'senales',\n",
       " 'contaminacion',\n",
       " 'panorama',\n",
       " 'descrito',\n",
       " 'anteriormente',\n",
       " 'complejo',\n",
       " 'parte',\n",
       " 'continuan',\n",
       " 'elevandose',\n",
       " 'presiones',\n",
       " 'inflacionarias',\n",
       " 'mundo',\n",
       " 'mexico',\n",
       " 'aunque',\n",
       " 'cabe',\n",
       " 'senalar',\n",
       " 'pese',\n",
       " 'magnitud',\n",
       " 'choques',\n",
       " 'mexico',\n",
       " 'experimentado',\n",
       " 'menor',\n",
       " 'inflacion',\n",
       " 'paises',\n",
       " 'aumentado',\n",
       " 'considerablemente',\n",
       " 'riesgos',\n",
       " 'economia',\n",
       " 'pais',\n",
       " 'asociados',\n",
       " 'recesion',\n",
       " 'unidos',\n",
       " 'base',\n",
       " 'consideraciones',\n",
       " 'anteriores',\n",
       " 'junta',\n",
       " 'gobierno',\n",
       " 'decidido',\n",
       " 'ciento',\n",
       " 'objetivo',\n",
       " 'tasa',\n",
       " 'interes',\n",
       " 'interbancaria',\n",
       " 'dia',\n",
       " 'banco',\n",
       " 'mexico',\n",
       " 'continuara',\n",
       " 'vigilando',\n",
       " 'evolucion',\n",
       " 'balance',\n",
       " 'riesgos',\n",
       " 'particular',\n",
       " 'mantendra',\n",
       " 'estrecho',\n",
       " 'seguimiento',\n",
       " 'efectos',\n",
       " 'puedan',\n",
       " 'tener',\n",
       " 'precios',\n",
       " 'horizonte',\n",
       " 'relevante',\n",
       " 'politica',\n",
       " 'monetaria',\n",
       " 'presiones',\n",
       " 'inflacionarias',\n",
       " 'origen',\n",
       " 'externo',\n",
       " 'desaceleracion',\n",
       " 'actividad',\n",
       " 'economica',\n",
       " 'mexico',\n",
       " 'mayor',\n",
       " 'astringencia',\n",
       " 'crediticia',\n",
       " 'monetaria',\n",
       " 'relativa',\n",
       " 'atribuible',\n",
       " 'consecuencias',\n",
       " 'turbulencia',\n",
       " 'financiera',\n",
       " 'mundial',\n",
       " 'ello',\n",
       " 'miras',\n",
       " 'cumplimiento',\n",
       " 'meta',\n",
       " 'tiempos',\n",
       " 'previstos']"
      ]
     },
     "execution_count": 33,
     "metadata": {},
     "output_type": "execute_result"
    }
   ],
   "source": [
    "lee_pdf(2)"
   ]
  },
  {
   "cell_type": "markdown",
   "metadata": {},
   "source": [
    "## Modelo predictivo"
   ]
  },
  {
   "cell_type": "markdown",
   "metadata": {},
   "source": [
    "### Test-train split"
   ]
  },
  {
   "cell_type": "code",
   "execution_count": 82,
   "metadata": {
    "ExecuteTime": {
     "end_time": "2020-03-16T23:20:34.647743Z",
     "start_time": "2020-03-16T23:20:34.644750Z"
    }
   },
   "outputs": [],
   "source": [
    "from sklearn.model_selection import train_test_split"
   ]
  },
  {
   "cell_type": "code",
   "execution_count": 83,
   "metadata": {
    "ExecuteTime": {
     "end_time": "2020-03-17T00:38:57.013639Z",
     "start_time": "2020-03-17T00:38:57.009637Z"
    }
   },
   "outputs": [],
   "source": [
    "#Divide index de documentos 20 - 80 para el entrenamiento del modelo.\n",
    "L1 = list(range(len(df_values)))\n",
    "\n",
    "D1, D1_test = train_test_split(L1, test_size=0.2)"
   ]
  },
  {
   "cell_type": "code",
   "execution_count": 84,
   "metadata": {
    "ExecuteTime": {
     "end_time": "2020-03-17T00:44:06.874142Z",
     "start_time": "2020-03-17T00:44:06.859128Z"
    }
   },
   "outputs": [
    {
     "name": "stdout",
     "output_type": "stream",
     "text": [
      "Tamaño incrementa : 14\n",
      "Tamaño mantiene : 59\n",
      "Tamaño disminuye : 11\n"
     ]
    }
   ],
   "source": [
    "#Lista doc mantiene\n",
    "lista_mantiene = []\n",
    "\n",
    "#Lista doc mantiene\n",
    "lista_incrementa = []\n",
    "\n",
    "#Lista doc mantiene\n",
    "lista_disminuye = []\n",
    "\n",
    "for i in D1:\n",
    "    if (df_values.category[i]) == ' incrementa':\n",
    "        lista_incrementa.append(i)\n",
    "    elif (df_values.category[i]) == 'mantiene':\n",
    "        lista_mantiene.append(i)\n",
    "    else :\n",
    "        lista_disminuye.append(i)\n",
    "\n",
    "print(\"Tamaño incrementa :\",len(lista_incrementa))\n",
    "print(\"Tamaño mantiene :\",len(lista_mantiene))\n",
    "print(\"Tamaño disminuye :\",len(lista_disminuye))"
   ]
  },
  {
   "cell_type": "code",
   "execution_count": 85,
   "metadata": {
    "ExecuteTime": {
     "end_time": "2020-03-17T00:51:49.866301Z",
     "start_time": "2020-03-17T00:51:43.843529Z"
    }
   },
   "outputs": [
    {
     "name": "stderr",
     "output_type": "stream",
     "text": [
      "PdfReadWarning: Xref table not zero-indexed. ID numbers for objects will be corrected. [pdf.py:1736]\n"
     ]
    }
   ],
   "source": [
    "\n",
    "#Lista palabras INCREMENTA \n",
    "palabras_incrementa = []\n",
    "for k in lista_incrementa:\n",
    "    for item in (lee_pdf(k)):\n",
    "        palabras_incrementa.append(item)\n",
    "        \n",
    "#Lista palabras MANTIENE \n",
    "palabras_mantiene = []\n",
    "for k in lista_mantiene:\n",
    "    for item in (lee_pdf(k)):\n",
    "        palabras_mantiene.append(item)\n",
    "        \n",
    "#Lista palabras DISMINIYU \n",
    "palabras_disminuye = []\n",
    "for k in lista_disminuye:\n",
    "    for item in (lee_pdf(k)):\n",
    "        palabras_disminuye.append(item)\n"
   ]
  },
  {
   "cell_type": "code",
   "execution_count": 86,
   "metadata": {
    "ExecuteTime": {
     "end_time": "2020-03-17T01:03:05.464379Z",
     "start_time": "2020-03-17T01:03:05.453368Z"
    }
   },
   "outputs": [
    {
     "name": "stdout",
     "output_type": "stream",
     "text": [
      "Métrica incrementa 0.2638758231420508\n",
      "Métrica mantiene 0.123601884971328\n",
      "Métrica disminuye 0.3133289124668435\n",
      "------------------------------------------------------------------------------------------\n",
      "Tamaño incrementa 4252\n",
      "Tamaño mantiene 17613\n",
      "Tamaño disminuye 3016\n"
     ]
    }
   ],
   "source": [
    "N = len(palabras_incrementa) + len(palabras_mantiene) +len(palabras_disminuye)\n",
    "\n",
    "N1 = len(palabras_incrementa)\n",
    "N2 = len(palabras_mantiene)\n",
    "N3 = len(palabras_disminuye)\n",
    "\n",
    "print(\"Métrica incrementa\", len(set(palabras_incrementa)) / len(palabras_incrementa))\n",
    "print(\"Métrica mantiene\", len(set(palabras_mantiene)) / len(palabras_mantiene))\n",
    "print(\"Métrica disminuye\", len(set(palabras_disminuye)) / len(palabras_disminuye))\n",
    "\n",
    "print(\"---\"*30)\n",
    "print(\"Tamaño incrementa\", N1)\n",
    "print(\"Tamaño mantiene\", N2)\n",
    "print(\"Tamaño disminuye\", N3)"
   ]
  },
  {
   "cell_type": "code",
   "execution_count": 87,
   "metadata": {
    "ExecuteTime": {
     "end_time": "2020-03-17T01:00:13.716549Z",
     "start_time": "2020-03-17T01:00:13.708532Z"
    }
   },
   "outputs": [
    {
     "data": {
      "text/plain": [
       "monetaria          59\n",
       "economia           52\n",
       "politica           52\n",
       "inflacion          46\n",
       "mexico             44\n",
       "                   ..\n",
       "diferentes          1\n",
       "solida              1\n",
       "idiosincrasicos     1\n",
       "demandan            1\n",
       "impacto             1\n",
       "Length: 1122, dtype: int64"
      ]
     },
     "execution_count": 87,
     "metadata": {},
     "output_type": "execute_result"
    }
   ],
   "source": [
    "pd.Series(palabras_incrementa).value_counts()\n"
   ]
  },
  {
   "cell_type": "code",
   "execution_count": 88,
   "metadata": {
    "ExecuteTime": {
     "end_time": "2020-03-17T01:00:21.071430Z",
     "start_time": "2020-03-17T01:00:21.061422Z"
    }
   },
   "outputs": [
    {
     "data": {
      "text/plain": [
       "inflacion      315\n",
       "crecimiento    194\n",
       "economia       181\n",
       "monetaria      171\n",
       "actividad      170\n",
       "              ... \n",
       "agudizacion      1\n",
       "reales           1\n",
       "automotriz       1\n",
       "tornandose       1\n",
       "nominales        1\n",
       "Length: 2177, dtype: int64"
      ]
     },
     "execution_count": 88,
     "metadata": {},
     "output_type": "execute_result"
    }
   ],
   "source": [
    "pd.Series(palabras_mantiene).value_counts()"
   ]
  },
  {
   "cell_type": "code",
   "execution_count": 89,
   "metadata": {
    "ExecuteTime": {
     "end_time": "2020-03-17T01:00:39.125456Z",
     "start_time": "2020-03-17T01:00:39.117459Z"
    }
   },
   "outputs": [
    {
     "data": {
      "text/plain": [
       "inflacion       57\n",
       "economica       38\n",
       "actividad       34\n",
       "mexico          34\n",
       "economia        31\n",
       "                ..\n",
       "convergencia     1\n",
       "acerca           1\n",
       "previo           1\n",
       "prima            1\n",
       "inciden          1\n",
       "Length: 945, dtype: int64"
      ]
     },
     "execution_count": 89,
     "metadata": {},
     "output_type": "execute_result"
    }
   ],
   "source": [
    "pd.Series(palabras_disminuye).value_counts()"
   ]
  },
  {
   "cell_type": "code",
   "execution_count": 90,
   "metadata": {
    "ExecuteTime": {
     "end_time": "2020-03-17T00:55:02.041327Z",
     "start_time": "2020-03-17T00:55:02.018251Z"
    }
   },
   "outputs": [],
   "source": [
    "V = set(palabras_incrementa) | set(palabras_mantiene) | set(palabras_disminuye)\n",
    "vocab = pd.DataFrame(index=V)"
   ]
  },
  {
   "cell_type": "code",
   "execution_count": 91,
   "metadata": {
    "ExecuteTime": {
     "end_time": "2020-03-17T00:55:28.932881Z",
     "start_time": "2020-03-17T00:55:28.915877Z"
    }
   },
   "outputs": [],
   "source": [
    "V1_c = pd.Series(palabras_incrementa, name=\"k1\").value_counts()\n",
    "V2_c = pd.Series(palabras_mantiene, name=\"k2\").value_counts()\n",
    "V3_c = pd.Series(palabras_disminuye, name=\"k3\").value_counts()"
   ]
  },
  {
   "cell_type": "code",
   "execution_count": 92,
   "metadata": {
    "ExecuteTime": {
     "end_time": "2020-03-17T00:56:28.514516Z",
     "start_time": "2020-03-17T00:56:28.492316Z"
    }
   },
   "outputs": [
    {
     "data": {
      "text/html": [
       "<div>\n",
       "<style scoped>\n",
       "    .dataframe tbody tr th:only-of-type {\n",
       "        vertical-align: middle;\n",
       "    }\n",
       "\n",
       "    .dataframe tbody tr th {\n",
       "        vertical-align: top;\n",
       "    }\n",
       "\n",
       "    .dataframe thead th {\n",
       "        text-align: right;\n",
       "    }\n",
       "</style>\n",
       "<table border=\"1\" class=\"dataframe\">\n",
       "  <thead>\n",
       "    <tr style=\"text-align: right;\">\n",
       "      <th></th>\n",
       "      <th>k1</th>\n",
       "      <th>k2</th>\n",
       "      <th>k3</th>\n",
       "    </tr>\n",
       "  </thead>\n",
       "  <tbody>\n",
       "    <tr>\n",
       "      <th>impacto</th>\n",
       "      <td>-8.125779</td>\n",
       "      <td>-6.965130</td>\n",
       "      <td>-7.230744</td>\n",
       "    </tr>\n",
       "    <tr>\n",
       "      <th>dicho</th>\n",
       "      <td>-6.421031</td>\n",
       "      <td>-6.690693</td>\n",
       "      <td>-7.007601</td>\n",
       "    </tr>\n",
       "    <tr>\n",
       "      <th>sostenibilidad</th>\n",
       "      <td>-8.818926</td>\n",
       "      <td>-7.963659</td>\n",
       "      <td>-8.617039</td>\n",
       "    </tr>\n",
       "    <tr>\n",
       "      <th>empiezan</th>\n",
       "      <td>-8.818926</td>\n",
       "      <td>-9.216422</td>\n",
       "      <td>-8.617039</td>\n",
       "    </tr>\n",
       "    <tr>\n",
       "      <th>largos</th>\n",
       "      <td>-8.125779</td>\n",
       "      <td>-9.216422</td>\n",
       "      <td>-8.617039</td>\n",
       "    </tr>\n",
       "    <tr>\n",
       "      <th>...</th>\n",
       "      <td>...</td>\n",
       "      <td>...</td>\n",
       "      <td>...</td>\n",
       "    </tr>\n",
       "    <tr>\n",
       "      <th>desequilibrios</th>\n",
       "      <td>-8.818926</td>\n",
       "      <td>-9.216422</td>\n",
       "      <td>-8.617039</td>\n",
       "    </tr>\n",
       "    <tr>\n",
       "      <th>dependeran</th>\n",
       "      <td>-8.818926</td>\n",
       "      <td>-8.300131</td>\n",
       "      <td>-8.617039</td>\n",
       "    </tr>\n",
       "    <tr>\n",
       "      <th>encabezado</th>\n",
       "      <td>-8.818926</td>\n",
       "      <td>-9.216422</td>\n",
       "      <td>-8.617039</td>\n",
       "    </tr>\n",
       "    <tr>\n",
       "      <th>aceleraria</th>\n",
       "      <td>-8.125779</td>\n",
       "      <td>-9.909569</td>\n",
       "      <td>-8.617039</td>\n",
       "    </tr>\n",
       "    <tr>\n",
       "      <th>nominales</th>\n",
       "      <td>-8.818926</td>\n",
       "      <td>-9.216422</td>\n",
       "      <td>-8.617039</td>\n",
       "    </tr>\n",
       "  </tbody>\n",
       "</table>\n",
       "<p>2509 rows × 3 columns</p>\n",
       "</div>"
      ],
      "text/plain": [
       "                      k1        k2        k3\n",
       "impacto        -8.125779 -6.965130 -7.230744\n",
       "dicho          -6.421031 -6.690693 -7.007601\n",
       "sostenibilidad -8.818926 -7.963659 -8.617039\n",
       "empiezan       -8.818926 -9.216422 -8.617039\n",
       "largos         -8.125779 -9.216422 -8.617039\n",
       "...                  ...       ...       ...\n",
       "desequilibrios -8.818926 -9.216422 -8.617039\n",
       "dependeran     -8.818926 -8.300131 -8.617039\n",
       "encabezado     -8.818926 -9.216422 -8.617039\n",
       "aceleraria     -8.125779 -9.909569 -8.617039\n",
       "nominales      -8.818926 -9.216422 -8.617039\n",
       "\n",
       "[2509 rows x 3 columns]"
      ]
     },
     "execution_count": 92,
     "metadata": {},
     "output_type": "execute_result"
    }
   ],
   "source": [
    "# likelihood\n",
    "L = (vocab.join(V1_c, how=\"left\")\n",
    "                .join(V2_c, how=\"left\")\n",
    "                .join(V3_c, how=\"left\"))\n",
    "\n",
    "L = L.fillna(0) + 1\n",
    "L = L / L.sum(axis=0)\n",
    "L.sample(10, random_state=314)\n",
    "\n",
    "log_L = np.log(L)\n",
    "\n",
    "log_L"
   ]
  },
  {
   "cell_type": "code",
   "execution_count": 93,
   "metadata": {
    "ExecuteTime": {
     "end_time": "2020-03-17T01:03:18.600438Z",
     "start_time": "2020-03-17T01:03:18.597436Z"
    }
   },
   "outputs": [
    {
     "data": {
      "text/plain": [
       "array([-1.766715  , -0.34546719, -2.11017301])"
      ]
     },
     "execution_count": 93,
     "metadata": {},
     "output_type": "execute_result"
    }
   ],
   "source": [
    "log_prior_k1 = np.log(N1 / N)\n",
    "log_prior_k2 = np.log(N2 / N)\n",
    "log_prior_k3 = np.log(N3 / N)\n",
    "\n",
    "log_priors = np.array([log_prior_k1, log_prior_k2, log_prior_k3])\n",
    "log_priors"
   ]
  },
  {
   "cell_type": "markdown",
   "metadata": {},
   "source": [
    "### Test modelo"
   ]
  },
  {
   "cell_type": "code",
   "execution_count": 94,
   "metadata": {
    "ExecuteTime": {
     "end_time": "2020-03-17T01:27:47.109681Z",
     "start_time": "2020-03-17T01:27:47.105308Z"
    }
   },
   "outputs": [],
   "source": [
    "y_test = []\n",
    "for i in D1_test:\n",
    "    if (df_values.category[i]) == ' incrementa':\n",
    "        y_test.append('incrementa')\n",
    "    elif (df_values.category[i]) == 'mantiene':\n",
    "        y_test.append('mantiene')\n",
    "    else :\n",
    "        y_test.append('disminuye')"
   ]
  },
  {
   "cell_type": "code",
   "execution_count": 95,
   "metadata": {
    "ExecuteTime": {
     "end_time": "2020-03-17T01:27:47.604275Z",
     "start_time": "2020-03-17T01:27:47.600272Z"
    }
   },
   "outputs": [
    {
     "data": {
      "text/plain": [
       "['disminuye',\n",
       " 'mantiene',\n",
       " 'mantiene',\n",
       " 'mantiene',\n",
       " 'mantiene',\n",
       " 'mantiene',\n",
       " 'disminuye',\n",
       " 'mantiene',\n",
       " 'incrementa',\n",
       " 'mantiene',\n",
       " 'mantiene',\n",
       " 'mantiene',\n",
       " 'incrementa',\n",
       " 'disminuye',\n",
       " 'incrementa',\n",
       " 'mantiene',\n",
       " 'mantiene',\n",
       " 'disminuye',\n",
       " 'mantiene',\n",
       " 'disminuye',\n",
       " 'incrementa',\n",
       " 'mantiene']"
      ]
     },
     "execution_count": 95,
     "metadata": {},
     "output_type": "execute_result"
    }
   ],
   "source": [
    "y_test"
   ]
  },
  {
   "cell_type": "code",
   "execution_count": 96,
   "metadata": {
    "ExecuteTime": {
     "end_time": "2020-03-17T01:28:00.276519Z",
     "start_time": "2020-03-17T01:27:59.032867Z"
    }
   },
   "outputs": [],
   "source": [
    "\n",
    "yhat_test = []\n",
    "\n",
    "for j in D1_test:\n",
    "    lista_doc = []\n",
    "    for item in lee_pdf(j):\n",
    "        if item in V:\n",
    "            lista_doc.append(item)\n",
    "\n",
    "    res = log_L.loc[lista_doc].sum(axis=0) + log_priors\n",
    "\n",
    "    #Guarda Resultados\n",
    "    if res.idxmax() == 'k1':\n",
    "        yhat_test.append('incrementa')\n",
    "\n",
    "    if res.idxmax() == 'k2':\n",
    "        yhat_test.append('mantiene')\n",
    "\n",
    "    if res.idxmax() == 'k3':\n",
    "        yhat_test.append('disminuye')\n",
    "        \n"
   ]
  },
  {
   "cell_type": "code",
   "execution_count": 98,
   "metadata": {
    "ExecuteTime": {
     "end_time": "2020-03-17T01:28:20.759348Z",
     "start_time": "2020-03-17T01:28:20.753343Z"
    }
   },
   "outputs": [
    {
     "data": {
      "text/plain": [
       "array([[ 3,  0,  2],\n",
       "       [ 0,  2,  2],\n",
       "       [ 0,  1, 12]], dtype=int64)"
      ]
     },
     "execution_count": 98,
     "metadata": {},
     "output_type": "execute_result"
    }
   ],
   "source": [
    "confusion_matrix(y_test, yhat_test)\n",
    "\n",
    "df_cm = confusion_matrix(y_test, yhat_test)\n",
    "df_cm"
   ]
  },
  {
   "cell_type": "markdown",
   "metadata": {},
   "source": [
    "***"
   ]
  },
  {
   "cell_type": "markdown",
   "metadata": {},
   "source": [
    "***"
   ]
  },
  {
   "cell_type": "markdown",
   "metadata": {},
   "source": [
    "<font color='#508072'> \n",
    "$ \\LARGE \\textbf {Final código} $  "
   ]
  },
  {
   "cell_type": "markdown",
   "metadata": {},
   "source": [
    "***"
   ]
  }
 ],
 "metadata": {
  "kernelspec": {
   "display_name": "Python 3",
   "language": "python",
   "name": "python3"
  },
  "language_info": {
   "codemirror_mode": {
    "name": "ipython",
    "version": 3
   },
   "file_extension": ".py",
   "mimetype": "text/x-python",
   "name": "python",
   "nbconvert_exporter": "python",
   "pygments_lexer": "ipython3",
   "version": "3.7.6"
  },
  "toc": {
   "base_numbering": 1,
   "nav_menu": {},
   "number_sections": true,
   "sideBar": true,
   "skip_h1_title": false,
   "title_cell": "Table of Contents",
   "title_sidebar": "Contents",
   "toc_cell": false,
   "toc_position": {},
   "toc_section_display": true,
   "toc_window_display": true
  }
 },
 "nbformat": 4,
 "nbformat_minor": 2
}

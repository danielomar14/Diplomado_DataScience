{
 "cells": [
  {
   "cell_type": "markdown",
   "metadata": {},
   "source": [
    "---"
   ]
  },
  {
   "cell_type": "code",
   "execution_count": 76,
   "metadata": {
    "ExecuteTime": {
     "end_time": "2020-04-28T05:28:00.563976Z",
     "start_time": "2020-04-28T05:28:00.559973Z"
    },
    "hide_input": true
   },
   "outputs": [
    {
     "data": {
      "image/png": "[encoded data removed]",
      "text/plain": [
       "<IPython.core.display.Image object>"
      ]
     },
     "metadata": {
      "image/png": {
       "unconfined": true,
       "width": 700
      }
     },
     "output_type": "display_data"
    }
   ],
   "source": [
    "# Inicio de M para usuarios.\n",
    "from IPython.core.display import Image, display\n",
    "from tqdm import tqdm\n",
    "display(Image('itam_logo.png', width=700, unconfined=True))"
   ]
  },
  {
   "cell_type": "markdown",
   "metadata": {},
   "source": [
    "---"
   ]
  },
  {
   "cell_type": "markdown",
   "metadata": {
    "hide_input": false
   },
   "source": [
    "<font color='#508072'> \n",
    "$ \\Large \\textbf {Data science and machine learning applied to financial markets} $"
   ]
  },
  {
   "cell_type": "markdown",
   "metadata": {},
   "source": [
    "<font color='#508072'> \n",
    "$ \\normalsize \\textbf {Author: Daniel Omar Becerril Olguín} $"
   ]
  },
  {
   "cell_type": "markdown",
   "metadata": {},
   "source": [
    "<font color='#508072'> \n",
    "$ \\normalsize \\textbf {CU: 183605} $"
   ]
  },
  {
   "cell_type": "markdown",
   "metadata": {},
   "source": [
    "---"
   ]
  },
  {
   "cell_type": "markdown",
   "metadata": {},
   "source": [
    "# Prerequisites"
   ]
  },
  {
   "cell_type": "code",
   "execution_count": 77,
   "metadata": {
    "ExecuteTime": {
     "end_time": "2020-04-28T05:28:00.568981Z",
     "start_time": "2020-04-28T05:28:00.564977Z"
    }
   },
   "outputs": [],
   "source": [
    "#Python\n",
    "import numpy as np\n",
    "import pandas as pd\n",
    "\n",
    "#Data Science\n",
    "from sklearn.linear_model import LogisticRegression\n",
    "from sklearn.model_selection import train_test_split, cross_validate\n",
    "from sklearn.metrics import precision_score, recall_score, f1_score, precision_recall_curve\n",
    "from sklearn.model_selection import GridSearchCV\n",
    "\n",
    "#Visualization\n",
    "import matplotlib.pyplot as plt\n",
    "import plotly.express as px\n"
   ]
  },
  {
   "cell_type": "markdown",
   "metadata": {},
   "source": [
    "---"
   ]
  },
  {
   "cell_type": "markdown",
   "metadata": {
    "ExecuteTime": {
     "end_time": "2020-04-21T03:40:32.434792Z",
     "start_time": "2020-04-21T03:40:32.430778Z"
    }
   },
   "source": [
    "<h1 style=\"color:crimson\">Tarea II</h1>\n",
    "\n",
    "* Agrupar por sector (limpiar los datos)\n",
    "* Entrenar una regresión Logística y encontrar los mejores hiperparámetros\n",
    "* Probar cross-validation\n",
    "* Graficar Precision-Recall curve"
   ]
  },
  {
   "cell_type": "markdown",
   "metadata": {},
   "source": [
    "**Solución :**"
   ]
  },
  {
   "cell_type": "code",
   "execution_count": 78,
   "metadata": {
    "ExecuteTime": {
     "end_time": "2020-04-28T05:28:01.594452Z",
     "start_time": "2020-04-28T05:28:00.570983Z"
    }
   },
   "outputs": [
    {
     "data": {
      "text/html": [
       "<div>\n",
       "<style scoped>\n",
       "    .dataframe tbody tr th:only-of-type {\n",
       "        vertical-align: middle;\n",
       "    }\n",
       "\n",
       "    .dataframe tbody tr th {\n",
       "        vertical-align: top;\n",
       "    }\n",
       "\n",
       "    .dataframe thead th {\n",
       "        text-align: right;\n",
       "    }\n",
       "</style>\n",
       "<table border=\"1\" class=\"dataframe\">\n",
       "  <thead>\n",
       "    <tr style=\"text-align: right;\">\n",
       "      <th></th>\n",
       "      <th>KIMBERA</th>\n",
       "      <th>GAPB</th>\n",
       "      <th>CEMEXCPO</th>\n",
       "      <th>ASURB</th>\n",
       "      <th>GFNORTEO</th>\n",
       "      <th>KOFUBL</th>\n",
       "      <th>AC</th>\n",
       "      <th>LABB</th>\n",
       "      <th>FEMSAUBD</th>\n",
       "      <th>OMAB</th>\n",
       "      <th>...</th>\n",
       "      <th>MEGACPO</th>\n",
       "      <th>GCC</th>\n",
       "      <th>BIMBOA</th>\n",
       "      <th>GMEXICOB</th>\n",
       "      <th>GCARSOA1</th>\n",
       "      <th>TLEVICPO</th>\n",
       "      <th>ALFAA</th>\n",
       "      <th>BSMXB</th>\n",
       "      <th>PINFRA</th>\n",
       "      <th>MEXBOL</th>\n",
       "    </tr>\n",
       "    <tr>\n",
       "      <th>DATE</th>\n",
       "      <th></th>\n",
       "      <th></th>\n",
       "      <th></th>\n",
       "      <th></th>\n",
       "      <th></th>\n",
       "      <th></th>\n",
       "      <th></th>\n",
       "      <th></th>\n",
       "      <th></th>\n",
       "      <th></th>\n",
       "      <th></th>\n",
       "      <th></th>\n",
       "      <th></th>\n",
       "      <th></th>\n",
       "      <th></th>\n",
       "      <th></th>\n",
       "      <th></th>\n",
       "      <th></th>\n",
       "      <th></th>\n",
       "      <th></th>\n",
       "      <th></th>\n",
       "    </tr>\n",
       "  </thead>\n",
       "  <tbody>\n",
       "    <tr>\n",
       "      <th>2016-01-01</th>\n",
       "      <td>40.37</td>\n",
       "      <td>152.05</td>\n",
       "      <td>8.72</td>\n",
       "      <td>243.89</td>\n",
       "      <td>94.99</td>\n",
       "      <td>123.90</td>\n",
       "      <td>104.68</td>\n",
       "      <td>13.85</td>\n",
       "      <td>161.63</td>\n",
       "      <td>83.61</td>\n",
       "      <td>...</td>\n",
       "      <td>64.19</td>\n",
       "      <td>44.81</td>\n",
       "      <td>45.95</td>\n",
       "      <td>36.79</td>\n",
       "      <td>70.98</td>\n",
       "      <td>94.34</td>\n",
       "      <td>34.10</td>\n",
       "      <td>30.25</td>\n",
       "      <td>202.73</td>\n",
       "      <td>42977.50</td>\n",
       "    </tr>\n",
       "    <tr>\n",
       "      <th>2016-01-04</th>\n",
       "      <td>39.16</td>\n",
       "      <td>148.57</td>\n",
       "      <td>8.43</td>\n",
       "      <td>238.29</td>\n",
       "      <td>91.79</td>\n",
       "      <td>120.29</td>\n",
       "      <td>102.09</td>\n",
       "      <td>14.41</td>\n",
       "      <td>157.62</td>\n",
       "      <td>81.77</td>\n",
       "      <td>...</td>\n",
       "      <td>64.45</td>\n",
       "      <td>43.51</td>\n",
       "      <td>45.02</td>\n",
       "      <td>35.71</td>\n",
       "      <td>69.83</td>\n",
       "      <td>92.62</td>\n",
       "      <td>33.74</td>\n",
       "      <td>29.46</td>\n",
       "      <td>202.93</td>\n",
       "      <td>42113.70</td>\n",
       "    </tr>\n",
       "    <tr>\n",
       "      <th>2016-01-05</th>\n",
       "      <td>38.89</td>\n",
       "      <td>147.93</td>\n",
       "      <td>8.31</td>\n",
       "      <td>233.03</td>\n",
       "      <td>91.72</td>\n",
       "      <td>118.82</td>\n",
       "      <td>101.12</td>\n",
       "      <td>13.77</td>\n",
       "      <td>157.80</td>\n",
       "      <td>81.58</td>\n",
       "      <td>...</td>\n",
       "      <td>63.16</td>\n",
       "      <td>43.51</td>\n",
       "      <td>45.77</td>\n",
       "      <td>36.45</td>\n",
       "      <td>70.70</td>\n",
       "      <td>91.89</td>\n",
       "      <td>33.99</td>\n",
       "      <td>29.72</td>\n",
       "      <td>203.56</td>\n",
       "      <td>42041.68</td>\n",
       "    </tr>\n",
       "    <tr>\n",
       "      <th>2016-01-06</th>\n",
       "      <td>39.13</td>\n",
       "      <td>146.99</td>\n",
       "      <td>8.29</td>\n",
       "      <td>231.97</td>\n",
       "      <td>91.63</td>\n",
       "      <td>120.32</td>\n",
       "      <td>102.50</td>\n",
       "      <td>13.65</td>\n",
       "      <td>156.37</td>\n",
       "      <td>82.03</td>\n",
       "      <td>...</td>\n",
       "      <td>63.27</td>\n",
       "      <td>43.51</td>\n",
       "      <td>45.97</td>\n",
       "      <td>35.57</td>\n",
       "      <td>70.47</td>\n",
       "      <td>90.41</td>\n",
       "      <td>33.65</td>\n",
       "      <td>29.67</td>\n",
       "      <td>199.80</td>\n",
       "      <td>41691.19</td>\n",
       "    </tr>\n",
       "    <tr>\n",
       "      <th>2016-01-07</th>\n",
       "      <td>39.16</td>\n",
       "      <td>141.32</td>\n",
       "      <td>7.64</td>\n",
       "      <td>230.71</td>\n",
       "      <td>89.54</td>\n",
       "      <td>120.20</td>\n",
       "      <td>101.16</td>\n",
       "      <td>13.25</td>\n",
       "      <td>155.14</td>\n",
       "      <td>80.94</td>\n",
       "      <td>...</td>\n",
       "      <td>62.78</td>\n",
       "      <td>42.76</td>\n",
       "      <td>46.18</td>\n",
       "      <td>35.01</td>\n",
       "      <td>68.15</td>\n",
       "      <td>90.23</td>\n",
       "      <td>31.46</td>\n",
       "      <td>28.50</td>\n",
       "      <td>196.75</td>\n",
       "      <td>40661.57</td>\n",
       "    </tr>\n",
       "  </tbody>\n",
       "</table>\n",
       "<p>5 rows × 36 columns</p>\n",
       "</div>"
      ],
      "text/plain": [
       "            KIMBERA    GAPB  CEMEXCPO   ASURB  GFNORTEO  KOFUBL      AC  \\\n",
       "DATE                                                                      \n",
       "2016-01-01    40.37  152.05      8.72  243.89     94.99  123.90  104.68   \n",
       "2016-01-04    39.16  148.57      8.43  238.29     91.79  120.29  102.09   \n",
       "2016-01-05    38.89  147.93      8.31  233.03     91.72  118.82  101.12   \n",
       "2016-01-06    39.13  146.99      8.29  231.97     91.63  120.32  102.50   \n",
       "2016-01-07    39.16  141.32      7.64  230.71     89.54  120.20  101.16   \n",
       "\n",
       "             LABB  FEMSAUBD   OMAB  ...  MEGACPO    GCC  BIMBOA  GMEXICOB  \\\n",
       "DATE                                ...                                     \n",
       "2016-01-01  13.85    161.63  83.61  ...    64.19  44.81   45.95     36.79   \n",
       "2016-01-04  14.41    157.62  81.77  ...    64.45  43.51   45.02     35.71   \n",
       "2016-01-05  13.77    157.80  81.58  ...    63.16  43.51   45.77     36.45   \n",
       "2016-01-06  13.65    156.37  82.03  ...    63.27  43.51   45.97     35.57   \n",
       "2016-01-07  13.25    155.14  80.94  ...    62.78  42.76   46.18     35.01   \n",
       "\n",
       "            GCARSOA1  TLEVICPO  ALFAA  BSMXB  PINFRA    MEXBOL  \n",
       "DATE                                                            \n",
       "2016-01-01     70.98     94.34  34.10  30.25  202.73  42977.50  \n",
       "2016-01-04     69.83     92.62  33.74  29.46  202.93  42113.70  \n",
       "2016-01-05     70.70     91.89  33.99  29.72  203.56  42041.68  \n",
       "2016-01-06     70.47     90.41  33.65  29.67  199.80  41691.19  \n",
       "2016-01-07     68.15     90.23  31.46  28.50  196.75  40661.57  \n",
       "\n",
       "[5 rows x 36 columns]"
      ]
     },
     "execution_count": 78,
     "metadata": {},
     "output_type": "execute_result"
    }
   ],
   "source": [
    "#Importa datos\n",
    "ipc_path = \"ipc.xlsx\" \n",
    "market = pd.read_excel(ipc_path, index_col=0)\n",
    "market.columns = [c.replace(\" MF Equity\", \"\").replace(\" INDEX\", \"\").replace(\"*\", \"\") for c in market.columns]\n",
    "market.head()"
   ]
  },
  {
   "cell_type": "code",
   "execution_count": 79,
   "metadata": {
    "ExecuteTime": {
     "end_time": "2020-04-28T05:28:01.603461Z",
     "start_time": "2020-04-28T05:28:01.597455Z"
    }
   },
   "outputs": [
    {
     "name": "stdout",
     "output_type": "stream",
     "text": [
      "['KIMBERA', 'GAPB', 'CEMEXCPO', 'ASURB', 'GFNORTEO', 'KOFUBL', 'AC', 'LABB', 'FEMSAUBD', 'OMAB', 'GFINBURO', 'AMXL', 'ALSEA', 'ORBIA', 'PE&OLES', 'GRUMAB', 'RA', 'WALMEX', 'BOLSAA', 'LIVEPOLC', 'GENTERA', 'IENOVA', 'CUERVO', 'ELEKTRA', 'BBAJIOO', 'ALPEKA', 'MEGACPO', 'GCC', 'BIMBOA', 'GMEXICOB', 'GCARSOA1', 'TLEVICPO', 'ALFAA', 'BSMXB', 'PINFRA', 'MEXBOL']\n",
      "36\n"
     ]
    }
   ],
   "source": [
    "print(list(market.columns))\n",
    "\n",
    "print(len(list(market.columns)))"
   ]
  },
  {
   "cell_type": "code",
   "execution_count": 80,
   "metadata": {
    "ExecuteTime": {
     "end_time": "2020-04-28T05:28:01.622477Z",
     "start_time": "2020-04-28T05:28:01.604461Z"
    }
   },
   "outputs": [
    {
     "name": "stdout",
     "output_type": "stream",
     "text": [
      "['AC', 'ACCELSA', 'ACTINVR', 'AEROMEX', 'AGRIEXP', 'AGUA', 'AHMSA', 'ALEATIC', 'ALFA', 'ALPEK', 'ALSEA', 'AMX', 'ARA', 'ARISTOS', 'ASUR', 'AUTLAN', 'AXTEL', 'AZTECA', 'BACHOCO', 'BAFAR', 'BBAJIO', 'BEVIDES', 'BIMBO', 'BOLSA', 'BSMX', 'CABLE', 'CADU', 'CEMEX', 'CERAMIC', 'CHDRAUI', 'CIDMEGA', 'CIE', 'CMOCTEZ', 'CMR', 'COLLADO', 'CONVER', 'CREAL', 'CUERVO', 'CULTIBA', 'CYDSASA', 'DINE', 'EDOARDO', 'ELEKTRA', 'ELEMENT', 'FEMSA', 'FINAMEX', 'FINDEP', 'FRAGUA', 'GAP', 'GBM', 'GCARSO', 'GCC', 'GENSEG', 'GENTERA', 'GEO', 'GFAMSA', 'GFINBUR', 'GFMULTI', 'GFNORTE', 'GICSA', 'GIGANTE', 'GISSA', 'GMD', 'GMEXICO', 'GMXT', 'GNP', 'GOMO', 'GPH', 'GPROFUT', 'GRUMA', 'GSANBOR', 'HCITY', 'HERDEZ', 'HIMEXSA', 'HOMEX', 'HOTEL', 'IASASA', 'ICA', 'ICH', 'IDEAL', 'IENOVA', 'INGEAL', 'INVEX', 'JAVER', 'KIMBER', 'KOF', 'KUO', 'LAB', 'LACOMER', 'LALA', 'LAMOSA', 'LASEG', 'LIVEPOL', 'MAXCOM', 'MEDICA', 'MEGA', 'MFRISCO', 'MINSA', 'MONEX', 'NEMAK', 'OMA', 'ORBIA', 'PAPPEL', 'PASA', 'PE&OLES', 'PINFRA', 'PLANI', 'PMCPAC', 'POCHTEC', 'POSADAS', 'PROCORP', 'PV', 'Q', 'QBINDUS', 'QUMMA', 'R', 'RCENTRO', 'RLH', 'SARE', 'SAVIA', 'SIMEC', 'SITES', 'SORIANA', 'SPORT', 'TEAK', 'TEKCHEM', 'TLEVICPO', 'TMM', 'TRAXION', 'UNIFIN', 'URBI', 'VALUEGF', 'VASCONI', 'VESTA', 'VINTE', 'VISTA', 'VITRO', 'VOLAR', 'WALMEX']\n",
      "['PRODUCTOS DE CONSUMO FRECUENTE', 'INDUSTRIAL', 'SERVICIOS FINANCIEROS', 'INDUSTRIAL', 'PRODUCTOS DE CONSUMO FRECUENTE', 'INDUSTRIAL', 'MATERIALES', 'INDUSTRIAL', 'INDUSTRIAL', 'MATERIALES', 'SERVICIOS Y BIENES DE CONSUMO NO BÁSICO', 'SERVICIOS DE TELECOMUNICACIONES', 'INDUSTRIAL', 'INDUSTRIAL', 'INDUSTRIAL', 'MATERIALES', 'SERVICIOS DE TELECOMUNICACIONES', 'SERVICIOS DE TELECOMUNICACIONES', 'PRODUCTOS DE CONSUMO FRECUENTE', 'PRODUCTOS DE CONSUMO FRECUENTE', 'SERVICIOS FINANCIEROS', 'SALUD', 'PRODUCTOS DE CONSUMO FRECUENTE', 'SERVICIOS FINANCIEROS', 'SERVICIOS FINANCIEROS', 'SERVICIOS DE TELECOMUNICACIONES', 'INDUSTRIAL', 'MATERIALES', 'INDUSTRIAL', 'PRODUCTOS DE CONSUMO FRECUENTE', 'SERVICIOS Y BIENES DE CONSUMO NO BÁSICO', 'SERVICIOS Y BIENES DE CONSUMO NO BÁSICO', 'MATERIALES', 'SERVICIOS Y BIENES DE CONSUMO NO BÁSICO', 'MATERIALES', 'MATERIALES', 'SERVICIOS FINANCIEROS', 'PRODUCTOS DE CONSUMO FRECUENTE', 'PRODUCTOS DE CONSUMO FRECUENTE', 'MATERIALES', 'INDUSTRIAL', 'SERVICIOS Y BIENES DE CONSUMO NO BÁSICO', 'SERVICIOS Y BIENES DE CONSUMO NO BÁSICO', 'MATERIALES', 'PRODUCTOS DE CONSUMO FRECUENTE', 'SERVICIOS FINANCIEROS', 'SERVICIOS FINANCIEROS', 'SALUD', 'INDUSTRIAL', 'SERVICIOS FINANCIEROS', 'INDUSTRIAL', 'MATERIALES', 'SERVICIOS FINANCIEROS', 'SERVICIOS FINANCIEROS', 'INDUSTRIAL', 'SERVICIOS Y BIENES DE CONSUMO NO BÁSICO', 'SERVICIOS FINANCIEROS', 'SERVICIOS FINANCIEROS', 'SERVICIOS FINANCIEROS', 'INDUSTRIAL', 'PRODUCTOS DE CONSUMO FRECUENTE', 'INDUSTRIAL', 'INDUSTRIAL', 'MATERIALES', 'INDUSTRIAL', 'SERVICIOS FINANCIEROS', 'SERVICIOS Y BIENES DE CONSUMO NO BÁSICO', 'SERVICIOS Y BIENES DE CONSUMO NO BÁSICO', 'SERVICIOS FINANCIEROS', 'PRODUCTOS DE CONSUMO FRECUENTE', 'INDUSTRIAL', 'SERVICIOS Y BIENES DE CONSUMO NO BÁSICO', 'PRODUCTOS DE CONSUMO FRECUENTE', 'SERVICIOS Y BIENES DE CONSUMO NO BÁSICO', 'INDUSTRIAL', 'SERVICIOS Y BIENES DE CONSUMO NO BÁSICO', 'SERVICIOS Y BIENES DE CONSUMO NO BÁSICO', 'INDUSTRIAL', 'MATERIALES', 'INDUSTRIAL', 'ENERGÍA', 'PRODUCTOS DE CONSUMO FRECUENTE', 'SERVICIOS FINANCIEROS', 'INDUSTRIAL', 'PRODUCTOS DE CONSUMO FRECUENTE', 'PRODUCTOS DE CONSUMO FRECUENTE', 'INDUSTRIAL', 'SALUD', 'PRODUCTOS DE CONSUMO FRECUENTE', 'PRODUCTOS DE CONSUMO FRECUENTE', 'MATERIALES', 'SERVICIOS FINANCIEROS', 'SERVICIOS Y BIENES DE CONSUMO NO BÁSICO', 'SERVICIOS DE TELECOMUNICACIONES', 'SALUD', 'SERVICIOS DE TELECOMUNICACIONES', 'MATERIALES', 'PRODUCTOS DE CONSUMO FRECUENTE', 'SERVICIOS FINANCIEROS', 'SERVICIOS Y BIENES DE CONSUMO NO BÁSICO', 'INDUSTRIAL', 'INDUSTRIAL', 'MATERIALES', 'INDUSTRIAL', 'MATERIALES', 'INDUSTRIAL', 'INDUSTRIAL', 'SERVICIOS FINANCIEROS', 'MATERIALES', 'SERVICIOS Y BIENES DE CONSUMO NO BÁSICO', 'SERVICIOS FINANCIEROS', 'SERVICIOS FINANCIEROS', 'SERVICIOS FINANCIEROS', 'MATERIALES', 'SERVICIOS DE TELECOMUNICACIONES', 'SERVICIOS FINANCIEROS', 'SERVICIOS DE TELECOMUNICACIONES', 'SERVICIOS Y BIENES DE CONSUMO NO BÁSICO', 'INDUSTRIAL', 'PRODUCTOS DE CONSUMO FRECUENTE', 'MATERIALES', 'TECNOLOGÍA DE LA INFORMACIÓN', 'PRODUCTOS DE CONSUMO FRECUENTE', 'SERVICIOS Y BIENES DE CONSUMO NO BÁSICO', 'MATERIALES', 'MATERIALES', 'SERVICIOS DE TELECOMUNICACIONES', 'INDUSTRIAL', 'INDUSTRIAL', 'SERVICIOS FINANCIEROS', 'INDUSTRIAL', 'SERVICIOS FINANCIEROS', 'SERVICIOS Y BIENES DE CONSUMO NO BÁSICO', 'INDUSTRIAL', 'INDUSTRIAL', 'ENERGÍA', 'MATERIALES', 'INDUSTRIAL', 'PRODUCTOS DE CONSUMO FRECUENTE']\n"
     ]
    }
   ],
   "source": [
    "#Importa datos para agrupar\n",
    "df_grupos = pd.read_csv(\"bmv_emisoras.csv\")\n",
    "\n",
    "\n",
    "#AJUSTE TELEVISA & RA\n",
    "for i in range(len(df_grupos['key'])):\n",
    "    if df_grupos['key'][i] == 'TLEVISA':\n",
    "        df_grupos['key'][i] = 'TLEVICPO'\n",
    "    \n",
    "        \n",
    "print(list(df_grupos['key']))\n",
    "print(list(df_grupos['Sector']))\n",
    "    "
   ]
  },
  {
   "cell_type": "code",
   "execution_count": 81,
   "metadata": {
    "ExecuteTime": {
     "end_time": "2020-04-28T05:28:01.800639Z",
     "start_time": "2020-04-28T05:28:01.623478Z"
    }
   },
   "outputs": [
    {
     "name": "stdout",
     "output_type": "stream",
     "text": [
      "KIMBERA KIMBER\n",
      "GAPB GAP\n",
      "CEMEXCPO CEMEX\n",
      "ASURB ASUR\n",
      "GFNORTEO GFNORTE\n",
      "KOFUBL KOF\n",
      "AC AC\n",
      "LABB LAB\n",
      "FEMSAUBD FEMSA\n",
      "OMAB OMA\n",
      "GFINBURO GFINBUR\n",
      "AMXL AMX\n",
      "ALSEA ALSEA\n",
      "ORBIA ORBIA\n",
      "PE&OLES PE&OLES\n",
      "GRUMAB GRUMA\n",
      "WALMEX WALMEX\n",
      "BOLSAA BOLSA\n",
      "LIVEPOLC LIVEPOL\n",
      "GENTERA GENTERA\n",
      "IENOVA IENOVA\n",
      "CUERVO CUERVO\n",
      "ELEKTRA ELEKTRA\n",
      "BBAJIOO BBAJIO\n",
      "ALPEKA ALPEK\n",
      "MEGACPO AC\n",
      "MEGACPO MEGA\n",
      "GCC GCC\n",
      "BIMBOA BIMBO\n",
      "GMEXICOB GMEXICO\n",
      "GCARSOA1 GCARSO\n",
      "TLEVICPO TLEVICPO\n",
      "ALFAA ALFA\n",
      "BSMXB BSMX\n",
      "PINFRA PINFRA\n"
     ]
    }
   ],
   "source": [
    "lista_coincidencia = list()\n",
    "sector_coincidencia = list()\n",
    "\n",
    "for j in range(len(list(market.columns))):\n",
    "    for i in range(len(list(df_grupos['key']))):\n",
    "        if (market.columns[j].find(list(df_grupos['key'])[i]) != -1) and (len(list(df_grupos['key'])[i]) >= 2):\n",
    "            print(market.columns[j], list(df_grupos['key'])[i])\n",
    "            lista_coincidencia.append(market.columns[j])\n",
    "            sector_coincidencia.append(list(df_grupos['Sector'])[i])"
   ]
  },
  {
   "cell_type": "code",
   "execution_count": 82,
   "metadata": {
    "ExecuteTime": {
     "end_time": "2020-04-28T05:28:01.806644Z",
     "start_time": "2020-04-28T05:28:01.802641Z"
    }
   },
   "outputs": [
    {
     "name": "stdout",
     "output_type": "stream",
     "text": [
      "35\n",
      "34\n"
     ]
    }
   ],
   "source": [
    "print(len(lista_coincidencia))\n",
    "print(len(set(lista_coincidencia)))"
   ]
  },
  {
   "cell_type": "code",
   "execution_count": 83,
   "metadata": {
    "ExecuteTime": {
     "end_time": "2020-04-28T05:28:01.811649Z",
     "start_time": "2020-04-28T05:28:01.808648Z"
    }
   },
   "outputs": [
    {
     "name": "stdout",
     "output_type": "stream",
     "text": [
      "['KIMBERA', 'GAPB', 'CEMEXCPO', 'ASURB', 'GFNORTEO', 'KOFUBL', 'AC', 'LABB', 'FEMSAUBD', 'OMAB', 'GFINBURO', 'AMXL', 'ALSEA', 'ORBIA', 'PE&OLES', 'GRUMAB', 'WALMEX', 'BOLSAA', 'LIVEPOLC', 'GENTERA', 'IENOVA', 'CUERVO', 'ELEKTRA', 'BBAJIOO', 'ALPEKA', 'MEGACPO', 'MEGACPO', 'GCC', 'BIMBOA', 'GMEXICOB', 'GCARSOA1', 'TLEVICPO', 'ALFAA', 'BSMXB', 'PINFRA']\n",
      "['PRODUCTOS DE CONSUMO FRECUENTE', 'INDUSTRIAL', 'MATERIALES', 'INDUSTRIAL', 'SERVICIOS FINANCIEROS', 'PRODUCTOS DE CONSUMO FRECUENTE', 'PRODUCTOS DE CONSUMO FRECUENTE', 'SALUD', 'PRODUCTOS DE CONSUMO FRECUENTE', 'INDUSTRIAL', 'SERVICIOS FINANCIEROS', 'SERVICIOS DE TELECOMUNICACIONES', 'SERVICIOS Y BIENES DE CONSUMO NO BÁSICO', 'INDUSTRIAL', 'MATERIALES', 'PRODUCTOS DE CONSUMO FRECUENTE', 'PRODUCTOS DE CONSUMO FRECUENTE', 'SERVICIOS FINANCIEROS', 'SERVICIOS Y BIENES DE CONSUMO NO BÁSICO', 'SERVICIOS FINANCIEROS', 'ENERGÍA', 'PRODUCTOS DE CONSUMO FRECUENTE', 'SERVICIOS Y BIENES DE CONSUMO NO BÁSICO', 'SERVICIOS FINANCIEROS', 'MATERIALES', 'PRODUCTOS DE CONSUMO FRECUENTE', 'SERVICIOS DE TELECOMUNICACIONES', 'MATERIALES', 'PRODUCTOS DE CONSUMO FRECUENTE', 'MATERIALES', 'INDUSTRIAL', 'SERVICIOS DE TELECOMUNICACIONES', 'INDUSTRIAL', 'SERVICIOS FINANCIEROS', 'INDUSTRIAL']\n"
     ]
    }
   ],
   "source": [
    "print(lista_coincidencia)\n",
    "print(sector_coincidencia)"
   ]
  },
  {
   "cell_type": "code",
   "execution_count": 84,
   "metadata": {
    "ExecuteTime": {
     "end_time": "2020-04-28T05:28:01.816653Z",
     "start_time": "2020-04-28T05:28:01.812650Z"
    }
   },
   "outputs": [],
   "source": [
    "df_prueba = pd.DataFrame()\n",
    "df_prueba['Equity'] = lista_coincidencia\n",
    "df_prueba['Sector'] = sector_coincidencia"
   ]
  },
  {
   "cell_type": "code",
   "execution_count": 85,
   "metadata": {
    "ExecuteTime": {
     "end_time": "2020-04-28T05:28:01.823661Z",
     "start_time": "2020-04-28T05:28:01.817655Z"
    },
    "scrolled": true
   },
   "outputs": [],
   "source": [
    "#Ajuste\n",
    "df_prueba.drop([25],inplace=True)\n",
    "df_prueba\n",
    "\n",
    "#Agrega RA\n",
    "df2 = pd.DataFrame([['RA', 'SERVICIOS FINANCIEROS']], columns=list(['Equity','Sector']))\n",
    "df_prueba = df_prueba.append(df2, ignore_index=True)\n"
   ]
  },
  {
   "cell_type": "code",
   "execution_count": 86,
   "metadata": {
    "ExecuteTime": {
     "end_time": "2020-04-28T05:28:01.834670Z",
     "start_time": "2020-04-28T05:28:01.824672Z"
    }
   },
   "outputs": [],
   "source": [
    "lista_sectores = list(set(df_prueba['Sector'].tolist()))\n",
    "lista_sectores\n",
    "\n",
    "myDict = {}\n",
    "\n",
    "for i in range(len(lista_sectores)):\n",
    "    myDict[lista_sectores[i]] = df_prueba[df_prueba.Sector == lista_sectores[i]]['Equity'].tolist()"
   ]
  },
  {
   "cell_type": "code",
   "execution_count": 87,
   "metadata": {
    "ExecuteTime": {
     "end_time": "2020-04-28T05:28:01.855699Z",
     "start_time": "2020-04-28T05:28:01.835671Z"
    }
   },
   "outputs": [],
   "source": [
    "for i in range(len(lista_sectores)):\n",
    "    market[lista_sectores[i]] = market[myDict[lista_sectores[i]]].mean(axis=1)\n",
    "    \n",
    "    \n",
    "#lista_sectores = lista_sectores.append('MEXBOL')"
   ]
  },
  {
   "cell_type": "code",
   "execution_count": 88,
   "metadata": {
    "ExecuteTime": {
     "end_time": "2020-04-28T05:28:19.085790Z",
     "start_time": "2020-04-28T05:28:19.081787Z"
    }
   },
   "outputs": [
    {
     "data": {
      "text/plain": [
       "['SERVICIOS Y BIENES DE CONSUMO NO BÁSICO',\n",
       " 'SALUD',\n",
       " 'SERVICIOS DE TELECOMUNICACIONES',\n",
       " 'SERVICIOS FINANCIEROS',\n",
       " 'INDUSTRIAL',\n",
       " 'ENERGÍA',\n",
       " 'PRODUCTOS DE CONSUMO FRECUENTE',\n",
       " 'MATERIALES',\n",
       " 'MEXBOL']"
      ]
     },
     "execution_count": 88,
     "metadata": {},
     "output_type": "execute_result"
    }
   ],
   "source": [
    "lista_sectores.append('MEXBOL')\n",
    "lista_sectores"
   ]
  },
  {
   "cell_type": "code",
   "execution_count": 89,
   "metadata": {
    "ExecuteTime": {
     "end_time": "2020-04-28T05:35:45.172541Z",
     "start_time": "2020-04-28T05:35:45.167537Z"
    }
   },
   "outputs": [],
   "source": [
    "market = market[lista_sectores]"
   ]
  },
  {
   "cell_type": "code",
   "execution_count": 90,
   "metadata": {
    "ExecuteTime": {
     "end_time": "2020-04-28T05:39:08.310639Z",
     "start_time": "2020-04-28T05:39:08.297159Z"
    }
   },
   "outputs": [],
   "source": [
    "window = 20\n",
    "market_t = market.copy()\n",
    "rolling_mean = market_t.rolling(window).mean()\n",
    "rolling_std =  market_t.rolling(window).std()\n",
    "market_t = (market_t - rolling_mean) / rolling_std\n",
    "market_t = market_t.dropna()"
   ]
  },
  {
   "cell_type": "code",
   "execution_count": 91,
   "metadata": {
    "ExecuteTime": {
     "end_time": "2020-04-28T05:39:15.135731Z",
     "start_time": "2020-04-28T05:39:15.129457Z"
    }
   },
   "outputs": [
    {
     "data": {
      "text/plain": [
       "False    619\n",
       "True     408\n",
       "Name: MEXBOL, dtype: int64"
      ]
     },
     "execution_count": 91,
     "metadata": {},
     "output_type": "execute_result"
    }
   ],
   "source": [
    "(market_t[\"MEXBOL\"].pct_change() > 0).value_counts()"
   ]
  },
  {
   "cell_type": "code",
   "execution_count": 92,
   "metadata": {
    "ExecuteTime": {
     "end_time": "2020-04-28T05:39:23.433202Z",
     "start_time": "2020-04-28T05:39:23.425194Z"
    }
   },
   "outputs": [],
   "source": [
    "from statsmodels.tsa.stattools import adfuller\n",
    "\n",
    "adfuller(market_t[\"MEXBOL\"])\n",
    "\n",
    "\n",
    "# Limpiando información\n",
    "y = (market_t[\"MEXBOL\"].diff().shift(-1) > 0) * 1.0\n",
    "X = market_t.drop(\"MEXBOL\", axis=1).join(y, how=\"inner\")\n",
    "\n",
    "y = X[\"MEXBOL\"]\n",
    "X = X.drop(\"MEXBOL\", axis=1)"
   ]
  },
  {
   "cell_type": "code",
   "execution_count": 93,
   "metadata": {
    "ExecuteTime": {
     "end_time": "2020-04-28T05:39:24.567156Z",
     "start_time": "2020-04-28T05:39:24.561160Z"
    }
   },
   "outputs": [],
   "source": [
    "train_period = \"2019-10\"\n",
    "test_period = \"2019-11-20\"\n",
    "Xtrain, ytrain = X[:train_period], y[:train_period]\n",
    "Xtest, ytest = X[:test_period], y[:test_period]"
   ]
  },
  {
   "cell_type": "code",
   "execution_count": 94,
   "metadata": {
    "ExecuteTime": {
     "end_time": "2020-04-28T05:39:25.143451Z",
     "start_time": "2020-04-28T05:39:25.130439Z"
    }
   },
   "outputs": [
    {
     "data": {
      "text/html": [
       "<div>\n",
       "<style scoped>\n",
       "    .dataframe tbody tr th:only-of-type {\n",
       "        vertical-align: middle;\n",
       "    }\n",
       "\n",
       "    .dataframe tbody tr th {\n",
       "        vertical-align: top;\n",
       "    }\n",
       "\n",
       "    .dataframe thead th {\n",
       "        text-align: right;\n",
       "    }\n",
       "</style>\n",
       "<table border=\"1\" class=\"dataframe\">\n",
       "  <thead>\n",
       "    <tr style=\"text-align: right;\">\n",
       "      <th></th>\n",
       "      <th>SERVICIOS Y BIENES DE CONSUMO NO BÁSICO</th>\n",
       "      <th>SALUD</th>\n",
       "      <th>SERVICIOS DE TELECOMUNICACIONES</th>\n",
       "      <th>SERVICIOS FINANCIEROS</th>\n",
       "      <th>INDUSTRIAL</th>\n",
       "      <th>ENERGÍA</th>\n",
       "      <th>PRODUCTOS DE CONSUMO FRECUENTE</th>\n",
       "      <th>MATERIALES</th>\n",
       "    </tr>\n",
       "    <tr>\n",
       "      <th>DATE</th>\n",
       "      <th></th>\n",
       "      <th></th>\n",
       "      <th></th>\n",
       "      <th></th>\n",
       "      <th></th>\n",
       "      <th></th>\n",
       "      <th></th>\n",
       "      <th></th>\n",
       "    </tr>\n",
       "  </thead>\n",
       "  <tbody>\n",
       "    <tr>\n",
       "      <th>2016-01-28</th>\n",
       "      <td>0.518626</td>\n",
       "      <td>-1.916968</td>\n",
       "      <td>0.926813</td>\n",
       "      <td>-0.114350</td>\n",
       "      <td>1.109620</td>\n",
       "      <td>0.411031</td>\n",
       "      <td>2.512183</td>\n",
       "      <td>-0.083610</td>\n",
       "    </tr>\n",
       "    <tr>\n",
       "      <th>2016-01-29</th>\n",
       "      <td>1.307307</td>\n",
       "      <td>-1.648091</td>\n",
       "      <td>1.369005</td>\n",
       "      <td>1.828281</td>\n",
       "      <td>2.506886</td>\n",
       "      <td>-0.233958</td>\n",
       "      <td>2.752024</td>\n",
       "      <td>1.114067</td>\n",
       "    </tr>\n",
       "    <tr>\n",
       "      <th>2016-02-01</th>\n",
       "      <td>1.575272</td>\n",
       "      <td>-1.635259</td>\n",
       "      <td>1.230224</td>\n",
       "      <td>1.854247</td>\n",
       "      <td>2.179069</td>\n",
       "      <td>-0.127395</td>\n",
       "      <td>2.239213</td>\n",
       "      <td>1.213698</td>\n",
       "    </tr>\n",
       "    <tr>\n",
       "      <th>2016-02-02</th>\n",
       "      <td>1.333033</td>\n",
       "      <td>-0.962701</td>\n",
       "      <td>1.226850</td>\n",
       "      <td>1.298032</td>\n",
       "      <td>1.376808</td>\n",
       "      <td>2.736898</td>\n",
       "      <td>1.850849</td>\n",
       "      <td>1.477319</td>\n",
       "    </tr>\n",
       "    <tr>\n",
       "      <th>2016-02-03</th>\n",
       "      <td>1.395090</td>\n",
       "      <td>-1.417591</td>\n",
       "      <td>1.295200</td>\n",
       "      <td>1.481345</td>\n",
       "      <td>1.423167</td>\n",
       "      <td>3.162109</td>\n",
       "      <td>1.372878</td>\n",
       "      <td>2.463139</td>\n",
       "    </tr>\n",
       "    <tr>\n",
       "      <th>...</th>\n",
       "      <td>...</td>\n",
       "      <td>...</td>\n",
       "      <td>...</td>\n",
       "      <td>...</td>\n",
       "      <td>...</td>\n",
       "      <td>...</td>\n",
       "      <td>...</td>\n",
       "      <td>...</td>\n",
       "    </tr>\n",
       "    <tr>\n",
       "      <th>2019-10-25</th>\n",
       "      <td>-1.774036</td>\n",
       "      <td>2.208284</td>\n",
       "      <td>0.159388</td>\n",
       "      <td>-0.534791</td>\n",
       "      <td>1.858162</td>\n",
       "      <td>0.250445</td>\n",
       "      <td>-0.731981</td>\n",
       "      <td>-1.017233</td>\n",
       "    </tr>\n",
       "    <tr>\n",
       "      <th>2019-10-28</th>\n",
       "      <td>0.085867</td>\n",
       "      <td>2.020037</td>\n",
       "      <td>0.401935</td>\n",
       "      <td>0.560804</td>\n",
       "      <td>2.688575</td>\n",
       "      <td>0.589698</td>\n",
       "      <td>-0.055546</td>\n",
       "      <td>-0.988310</td>\n",
       "    </tr>\n",
       "    <tr>\n",
       "      <th>2019-10-29</th>\n",
       "      <td>0.037017</td>\n",
       "      <td>2.944016</td>\n",
       "      <td>0.142046</td>\n",
       "      <td>0.565439</td>\n",
       "      <td>2.383883</td>\n",
       "      <td>0.990812</td>\n",
       "      <td>0.297405</td>\n",
       "      <td>0.088965</td>\n",
       "    </tr>\n",
       "    <tr>\n",
       "      <th>2019-10-30</th>\n",
       "      <td>-0.506781</td>\n",
       "      <td>1.433694</td>\n",
       "      <td>-0.273273</td>\n",
       "      <td>1.692133</td>\n",
       "      <td>1.936910</td>\n",
       "      <td>0.271400</td>\n",
       "      <td>0.275021</td>\n",
       "      <td>0.552069</td>\n",
       "    </tr>\n",
       "    <tr>\n",
       "      <th>2019-10-31</th>\n",
       "      <td>-0.109898</td>\n",
       "      <td>1.215462</td>\n",
       "      <td>-0.632418</td>\n",
       "      <td>1.882174</td>\n",
       "      <td>1.293925</td>\n",
       "      <td>0.999671</td>\n",
       "      <td>-0.829264</td>\n",
       "      <td>0.440027</td>\n",
       "    </tr>\n",
       "  </tbody>\n",
       "</table>\n",
       "<p>981 rows × 8 columns</p>\n",
       "</div>"
      ],
      "text/plain": [
       "            SERVICIOS Y BIENES DE CONSUMO NO BÁSICO     SALUD  \\\n",
       "DATE                                                            \n",
       "2016-01-28                                 0.518626 -1.916968   \n",
       "2016-01-29                                 1.307307 -1.648091   \n",
       "2016-02-01                                 1.575272 -1.635259   \n",
       "2016-02-02                                 1.333033 -0.962701   \n",
       "2016-02-03                                 1.395090 -1.417591   \n",
       "...                                             ...       ...   \n",
       "2019-10-25                                -1.774036  2.208284   \n",
       "2019-10-28                                 0.085867  2.020037   \n",
       "2019-10-29                                 0.037017  2.944016   \n",
       "2019-10-30                                -0.506781  1.433694   \n",
       "2019-10-31                                -0.109898  1.215462   \n",
       "\n",
       "            SERVICIOS DE TELECOMUNICACIONES  SERVICIOS FINANCIEROS  \\\n",
       "DATE                                                                 \n",
       "2016-01-28                         0.926813              -0.114350   \n",
       "2016-01-29                         1.369005               1.828281   \n",
       "2016-02-01                         1.230224               1.854247   \n",
       "2016-02-02                         1.226850               1.298032   \n",
       "2016-02-03                         1.295200               1.481345   \n",
       "...                                     ...                    ...   \n",
       "2019-10-25                         0.159388              -0.534791   \n",
       "2019-10-28                         0.401935               0.560804   \n",
       "2019-10-29                         0.142046               0.565439   \n",
       "2019-10-30                        -0.273273               1.692133   \n",
       "2019-10-31                        -0.632418               1.882174   \n",
       "\n",
       "            INDUSTRIAL   ENERGÍA  PRODUCTOS DE CONSUMO FRECUENTE  MATERIALES  \n",
       "DATE                                                                          \n",
       "2016-01-28    1.109620  0.411031                        2.512183   -0.083610  \n",
       "2016-01-29    2.506886 -0.233958                        2.752024    1.114067  \n",
       "2016-02-01    2.179069 -0.127395                        2.239213    1.213698  \n",
       "2016-02-02    1.376808  2.736898                        1.850849    1.477319  \n",
       "2016-02-03    1.423167  3.162109                        1.372878    2.463139  \n",
       "...                ...       ...                             ...         ...  \n",
       "2019-10-25    1.858162  0.250445                       -0.731981   -1.017233  \n",
       "2019-10-28    2.688575  0.589698                       -0.055546   -0.988310  \n",
       "2019-10-29    2.383883  0.990812                        0.297405    0.088965  \n",
       "2019-10-30    1.936910  0.271400                        0.275021    0.552069  \n",
       "2019-10-31    1.293925  0.999671                       -0.829264    0.440027  \n",
       "\n",
       "[981 rows x 8 columns]"
      ]
     },
     "execution_count": 94,
     "metadata": {},
     "output_type": "execute_result"
    }
   ],
   "source": [
    "Xtrain"
   ]
  },
  {
   "cell_type": "markdown",
   "metadata": {},
   "source": [
    "## Modelo"
   ]
  },
  {
   "cell_type": "code",
   "execution_count": 95,
   "metadata": {
    "ExecuteTime": {
     "end_time": "2020-04-28T05:39:30.124980Z",
     "start_time": "2020-04-28T05:39:30.105972Z"
    }
   },
   "outputs": [],
   "source": [
    "# Create logistic regression\n",
    "logistic = LogisticRegression()\n",
    "\n",
    "# Create regularization penalty space\n",
    "penalty = ['l1', 'l2']\n",
    "\n",
    "# Create regularization hyperparameter space\n",
    "C = np.logspace(0, 4, 10)\n",
    "\n",
    "# Create hyperparameter options\n",
    "hyperparameters = dict(C=C, penalty=penalty)\n",
    "\n",
    "# Create grid search using 5-fold cross validation\n",
    "clf = GridSearchCV(logistic, hyperparameters, cv=5, verbose=0, )"
   ]
  },
  {
   "cell_type": "code",
   "execution_count": 96,
   "metadata": {},
   "outputs": [
    {
     "name": "stderr",
     "output_type": "stream",
     "text": [
      "C:\\ProgramData\\Anaconda3\\lib\\site-packages\\sklearn\\model_selection\\_validation.py:536: FitFailedWarning:\n",
      "\n",
      "Estimator fit failed. The score on this train-test partition for these parameters will be set to nan. Details: \n",
      "ValueError: Solver lbfgs supports only 'l2' or 'none' penalties, got l1 penalty.\n",
      "\n",
      "\n",
      "C:\\ProgramData\\Anaconda3\\lib\\site-packages\\sklearn\\model_selection\\_validation.py:536: FitFailedWarning:\n",
      "\n",
      "Estimator fit failed. The score on this train-test partition for these parameters will be set to nan. Details: \n",
      "ValueError: Solver lbfgs supports only 'l2' or 'none' penalties, got l1 penalty.\n",
      "\n",
      "\n",
      "C:\\ProgramData\\Anaconda3\\lib\\site-packages\\sklearn\\model_selection\\_validation.py:536: FitFailedWarning:\n",
      "\n",
      "Estimator fit failed. The score on this train-test partition for these parameters will be set to nan. Details: \n",
      "ValueError: Solver lbfgs supports only 'l2' or 'none' penalties, got l1 penalty.\n",
      "\n",
      "\n",
      "C:\\ProgramData\\Anaconda3\\lib\\site-packages\\sklearn\\model_selection\\_validation.py:536: FitFailedWarning:\n",
      "\n",
      "Estimator fit failed. The score on this train-test partition for these parameters will be set to nan. Details: \n",
      "ValueError: Solver lbfgs supports only 'l2' or 'none' penalties, got l1 penalty.\n",
      "\n",
      "\n",
      "C:\\ProgramData\\Anaconda3\\lib\\site-packages\\sklearn\\model_selection\\_validation.py:536: FitFailedWarning:\n",
      "\n",
      "Estimator fit failed. The score on this train-test partition for these parameters will be set to nan. Details: \n",
      "ValueError: Solver lbfgs supports only 'l2' or 'none' penalties, got l1 penalty.\n",
      "\n",
      "\n",
      "C:\\ProgramData\\Anaconda3\\lib\\site-packages\\sklearn\\model_selection\\_validation.py:536: FitFailedWarning:\n",
      "\n",
      "Estimator fit failed. The score on this train-test partition for these parameters will be set to nan. Details: \n",
      "ValueError: Solver lbfgs supports only 'l2' or 'none' penalties, got l1 penalty.\n",
      "\n",
      "\n",
      "C:\\ProgramData\\Anaconda3\\lib\\site-packages\\sklearn\\model_selection\\_validation.py:536: FitFailedWarning:\n",
      "\n",
      "Estimator fit failed. The score on this train-test partition for these parameters will be set to nan. Details: \n",
      "ValueError: Solver lbfgs supports only 'l2' or 'none' penalties, got l1 penalty.\n",
      "\n",
      "\n",
      "C:\\ProgramData\\Anaconda3\\lib\\site-packages\\sklearn\\model_selection\\_validation.py:536: FitFailedWarning:\n",
      "\n",
      "Estimator fit failed. The score on this train-test partition for these parameters will be set to nan. Details: \n",
      "ValueError: Solver lbfgs supports only 'l2' or 'none' penalties, got l1 penalty.\n",
      "\n",
      "\n",
      "C:\\ProgramData\\Anaconda3\\lib\\site-packages\\sklearn\\model_selection\\_validation.py:536: FitFailedWarning:\n",
      "\n",
      "Estimator fit failed. The score on this train-test partition for these parameters will be set to nan. Details: \n",
      "ValueError: Solver lbfgs supports only 'l2' or 'none' penalties, got l1 penalty.\n",
      "\n",
      "\n",
      "C:\\ProgramData\\Anaconda3\\lib\\site-packages\\sklearn\\model_selection\\_validation.py:536: FitFailedWarning:\n",
      "\n",
      "Estimator fit failed. The score on this train-test partition for these parameters will be set to nan. Details: \n",
      "ValueError: Solver lbfgs supports only 'l2' or 'none' penalties, got l1 penalty.\n",
      "\n",
      "\n"
     ]
    }
   ],
   "source": [
    "# Fit grid search\n",
    "best_model = clf.fit(Xtrain, ytrain)"
   ]
  },
  {
   "cell_type": "code",
   "execution_count": 97,
   "metadata": {},
   "outputs": [
    {
     "data": {
      "text/plain": [
       "{'C': 1.0, 'penalty': 'l2'}"
      ]
     },
     "execution_count": 97,
     "metadata": {},
     "output_type": "execute_result"
    }
   ],
   "source": [
    "best_model.best_params_"
   ]
  },
  {
   "cell_type": "code",
   "execution_count": 98,
   "metadata": {
    "ExecuteTime": {
     "end_time": "2020-04-28T05:39:30.124980Z",
     "start_time": "2020-04-28T05:39:30.105972Z"
    }
   },
   "outputs": [
    {
     "data": {
      "text/plain": [
       "0.5565575468766186"
      ]
     },
     "execution_count": 98,
     "metadata": {},
     "output_type": "execute_result"
    }
   ],
   "source": [
    "best_model.best_score_"
   ]
  },
  {
   "cell_type": "markdown",
   "metadata": {},
   "source": [
    "## Precision-Recall curve"
   ]
  },
  {
   "cell_type": "code",
   "execution_count": 102,
   "metadata": {},
   "outputs": [
    {
     "data": {
      "text/plain": [
       "Text(0.5, 0, 'Nivel de proba asignada')"
      ]
     },
     "execution_count": 102,
     "metadata": {},
     "output_type": "execute_result"
    },
    {
     "data": {
      "image/png": "[encoded data removed]",
      "text/plain": [
       "<Figure size 432x288 with 1 Axes>"
      ]
     },
     "metadata": {
      "needs_background": "light"
     },
     "output_type": "display_data"
    }
   ],
   "source": [
    "proba_estimate = best_model.predict_proba(Xtest)[:, 1]\n",
    "prec, recall, threshold = precision_recall_curve(ytest, proba_estimate)\n",
    "\n",
    "plt.plot(threshold, prec[:-1], label=\"precision\")\n",
    "plt.plot(threshold, recall[:-1], label=\"recall\")\n",
    "plt.legend()\n",
    "plt.axvline(x=0.5, linestyle=\"--\", c=\"black\")\n",
    "plt.axhline(y=0.5, linestyle=\"--\", c=\"black\")\n",
    "plt.xlabel(\"Nivel de proba asignada\")"
   ]
  },
  {
   "cell_type": "code",
   "execution_count": null,
   "metadata": {},
   "outputs": [],
   "source": []
  },
  {
   "cell_type": "code",
   "execution_count": null,
   "metadata": {},
   "outputs": [],
   "source": []
  },
  {
   "cell_type": "code",
   "execution_count": null,
   "metadata": {},
   "outputs": [],
   "source": []
  },
  {
   "cell_type": "code",
   "execution_count": null,
   "metadata": {},
   "outputs": [],
   "source": []
  },
  {
   "cell_type": "code",
   "execution_count": null,
   "metadata": {},
   "outputs": [],
   "source": []
  },
  {
   "cell_type": "code",
   "execution_count": null,
   "metadata": {},
   "outputs": [],
   "source": []
  }
 ],
 "metadata": {
  "kernelspec": {
   "display_name": "Python 3",
   "language": "python",
   "name": "python3"
  },
  "language_info": {
   "codemirror_mode": {
    "name": "ipython",
    "version": 3
   },
   "file_extension": ".py",
   "mimetype": "text/x-python",
   "name": "python",
   "nbconvert_exporter": "python",
   "pygments_lexer": "ipython3",
   "version": "3.7.6"
  },
  "toc": {
   "base_numbering": "0",
   "nav_menu": {},
   "number_sections": false,
   "sideBar": true,
   "skip_h1_title": false,
   "title_cell": "Table of Contents",
   "title_sidebar": "Contents",
   "toc_cell": false,
   "toc_position": {},
   "toc_section_display": true,
   "toc_window_display": true
  },
  "varInspector": {
   "cols": {
    "lenName": 16,
    "lenType": 16,
    "lenVar": 40
   },
   "kernels_config": {
    "python": {
     "delete_cmd_postfix": "",
     "delete_cmd_prefix": "del ",
     "library": "var_list.py",
     "varRefreshCmd": "print(var_dic_list())"
    },
    "r": {
     "delete_cmd_postfix": ") ",
     "delete_cmd_prefix": "rm(",
     "library": "var_list.r",
     "varRefreshCmd": "cat(var_dic_list()) "
    }
   },
   "types_to_exclude": [
    "module",
    "function",
    "builtin_function_or_method",
    "instance",
    "_Feature"
   ],
   "window_display": false
  }
 },
 "nbformat": 4,
 "nbformat_minor": 2
}
